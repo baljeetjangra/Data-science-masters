{
 "cells": [
  {
   "cell_type": "markdown",
   "id": "c48365fb",
   "metadata": {},
   "source": [
    "Q1. Create a vehicle class with an init method having instance variables as name_of_vehicle, max_speed and average_of_vehicle."
   ]
  },
  {
   "cell_type": "code",
   "execution_count": 1,
   "id": "25ddad41",
   "metadata": {},
   "outputs": [
    {
     "name": "stdout",
     "output_type": "stream",
     "text": [
      "Car\n",
      "120\n",
      "20\n"
     ]
    }
   ],
   "source": [
    "class Vehicle:\n",
    "    def __init__(self, name_of_vehicle, max_speed, average_of_vehicle):\n",
    "        self.name_of_vehicle = name_of_vehicle\n",
    "        self.max_speed = max_speed\n",
    "        self.average_of_vehicle = average_of_vehicle\n",
    "\n",
    "vehicle = Vehicle(\"Car\", 120, 20)\n",
    "print(vehicle.name_of_vehicle)\n",
    "print(vehicle.max_speed)\n",
    "print(vehicle.average_of_vehicle)\n"
   ]
  },
  {
   "cell_type": "markdown",
   "id": "da3153c7",
   "metadata": {},
   "source": [
    "Q2. Create a child class car from the vehicle class created in Que 1, which will inherit the vehicle class.\n",
    "Create a method named seating_capacity which takes capacity as an argument and returns the name of\n",
    "the vehicle and its seating capacity."
   ]
  },
  {
   "cell_type": "code",
   "execution_count": 2,
   "id": "725a8dfb",
   "metadata": {},
   "outputs": [
    {
     "name": "stdout",
     "output_type": "stream",
     "text": [
      "Car has a seating capacity of 5\n"
     ]
    }
   ],
   "source": [
    "class Vehicle:\n",
    "    def __init__(self, name_of_vehicle, max_speed, average_of_vehicle):\n",
    "        self.name_of_vehicle = name_of_vehicle\n",
    "        self.max_speed = max_speed\n",
    "        self.average_of_vehicle = average_of_vehicle\n",
    "\n",
    "class Car(Vehicle):\n",
    "    def seating_capacity(self, capacity):\n",
    "        return f\"{self.name_of_vehicle} has a seating capacity of {capacity}\"\n",
    "\n",
    "car = Car(\"Car\", 120, 20)\n",
    "print(car.seating_capacity(5))\n"
   ]
  },
  {
   "cell_type": "markdown",
   "id": "14da86f9",
   "metadata": {},
   "source": [
    "Q3. What is multiple inheritance? Write a python code to demonstrate multiple inheritance."
   ]
  },
  {
   "cell_type": "markdown",
   "id": "ba766961",
   "metadata": {},
   "source": [
    "Ans- Multiple inheritance is a feature of object-oriented programming (OOP) that allows a class to inherit properties and methods from more than one parent class."
   ]
  },
  {
   "cell_type": "code",
   "execution_count": 4,
   "id": "55780278",
   "metadata": {},
   "outputs": [
    {
     "name": "stdout",
     "output_type": "stream",
     "text": [
      "I am property 1 from Parent1\n",
      "I am method 1 from Parent1\n",
      "I am property 2 from Parent2\n",
      "I am method 2 from Parent2\n"
     ]
    }
   ],
   "source": [
    "class Parent1:\n",
    "    def __init__(self):\n",
    "        self.property1 = \"I am property 1 from Parent1\"\n",
    "    def method1(self):\n",
    "        return \"I am method 1 from Parent1\"\n",
    "\n",
    "class Parent2:\n",
    "    def __init__(self):\n",
    "        self.property2 = \"I am property 2 from Parent2\"\n",
    "    def method2(self):\n",
    "        return \"I am method 2 from Parent2\"\n",
    "\n",
    "class Child(Parent1, Parent2):\n",
    "    def __init__(self):\n",
    "        Parent1.__init__(self)\n",
    "        Parent2.__init__(self)\n",
    "\n",
    "c = Child()\n",
    "\n",
    "print(c.property1)\n",
    "print(c.method1())\n",
    "print(c.property2)\n",
    "print(c.method2())\n"
   ]
  },
  {
   "cell_type": "markdown",
   "id": "139b0642",
   "metadata": {},
   "source": [
    "Q4. What are getter and setter in python? Create a class and create a getter and a setter method in this\n",
    "class."
   ]
  },
  {
   "cell_type": "markdown",
   "id": "de1e6a80",
   "metadata": {},
   "source": [
    "Ans- Getters and setters are methods used to access the values of an object's attributes. The getter method is used to retrieve the value of an attribute, while the setter method is used to change the value of an attribute."
   ]
  },
  {
   "cell_type": "code",
   "execution_count": 5,
   "id": "80d60c1b",
   "metadata": {},
   "outputs": [
    {
     "name": "stdout",
     "output_type": "stream",
     "text": [
      "John Doe\n",
      "25\n",
      "Jane Doe\n",
      "30\n"
     ]
    }
   ],
   "source": [
    "class Student:\n",
    "    def __init__(self, name, age):\n",
    "        self.__name = name\n",
    "        self.__age = age\n",
    "        \n",
    "    def get_name(self):\n",
    "        return self.__name\n",
    "    \n",
    "    def set_name(self, name):\n",
    "        self.__name = name\n",
    "        \n",
    "    def get_age(self):\n",
    "        return self.__age\n",
    "    \n",
    "    def set_age(self, age):\n",
    "        self.__age = age\n",
    "        \n",
    "student = Student(\"John Doe\", 25)\n",
    "\n",
    "print(student.get_name())  \n",
    "print(student.get_age())  \n",
    "\n",
    "student.set_name(\"Jane Doe\")\n",
    "student.set_age(30)\n",
    "\n",
    "print(student.get_name())  \n",
    "print(student.get_age())  \n"
   ]
  },
  {
   "cell_type": "markdown",
   "id": "df5e5e06",
   "metadata": {},
   "source": [
    "Q5.What is method overriding in python? Write a python code to demonstrate method overriding."
   ]
  },
  {
   "cell_type": "markdown",
   "id": "276aaec1",
   "metadata": {},
   "source": [
    "Ans- Method overriding in python is a concept of object-oriented programming where a subclass provides a different implementation for a method that is already defined in its superclass."
   ]
  },
  {
   "cell_type": "code",
   "execution_count": 6,
   "id": "528f4b5f",
   "metadata": {},
   "outputs": [
    {
     "name": "stdout",
     "output_type": "stream",
     "text": [
      "Dog barks\n",
      "Cat meows\n"
     ]
    }
   ],
   "source": [
    "class Animal:\n",
    "    def sound(self):\n",
    "        print(\"Animal makes a sound\")\n",
    "\n",
    "class Dog(Animal):\n",
    "    def sound(self):\n",
    "        print(\"Dog barks\")\n",
    "\n",
    "class Cat(Animal):\n",
    "    def sound(self):\n",
    "        print(\"Cat meows\")\n",
    "\n",
    "dog = Dog()\n",
    "dog.sound()\n",
    "\n",
    "cat = Cat()\n",
    "cat.sound()\n"
   ]
  },
  {
   "cell_type": "code",
   "execution_count": null,
   "id": "a135a259",
   "metadata": {},
   "outputs": [],
   "source": []
  }
 ],
 "metadata": {
  "kernelspec": {
   "display_name": "Python 3 (ipykernel)",
   "language": "python",
   "name": "python3"
  },
  "language_info": {
   "codemirror_mode": {
    "name": "ipython",
    "version": 3
   },
   "file_extension": ".py",
   "mimetype": "text/x-python",
   "name": "python",
   "nbconvert_exporter": "python",
   "pygments_lexer": "ipython3",
   "version": "3.9.13"
  }
 },
 "nbformat": 4,
 "nbformat_minor": 5
}
