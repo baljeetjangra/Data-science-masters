{
 "cells": [
  {
   "cell_type": "markdown",
   "id": "8bb2cbd7",
   "metadata": {},
   "source": [
    "#### Youtube Web Scrapper"
   ]
  },
  {
   "cell_type": "markdown",
   "id": "c26126bf",
   "metadata": {},
   "source": [
    "#### Flask Webscrapper Github - https://github.com/baljeetjangra/web-scrapping-app"
   ]
  },
  {
   "cell_type": "markdown",
   "id": "055ee581",
   "metadata": {},
   "source": [
    "#### Functionality"
   ]
  },
  {
   "cell_type": "code",
   "execution_count": 49,
   "id": "977028ea",
   "metadata": {},
   "outputs": [],
   "source": [
    "from bs4 import BeautifulSoup as bs\n",
    "import requests\n",
    "from urllib.request import urlopen as uReq\n",
    "from webdriver_manager.chrome import ChromeDriverManager\n",
    "from selenium import webdriver\n",
    "from selenium.webdriver.chrome.service import Service as ChromeService\n",
    "import re\n",
    "import pandas as pd"
   ]
  },
  {
   "cell_type": "code",
   "execution_count": 40,
   "id": "405add55",
   "metadata": {},
   "outputs": [],
   "source": [
    "chrome_service = ChromeService(executable_path=ChromeDriverManager().install())\n",
    "chrome_options = webdriver.ChromeOptions()\n",
    "chrome_options.add_argument('--headless')\n",
    "driver = webdriver.Chrome(service=chrome_service, options=chrome_options)"
   ]
  },
  {
   "cell_type": "code",
   "execution_count": 41,
   "id": "5c24dfbd",
   "metadata": {},
   "outputs": [],
   "source": [
    "youtube_url = \"https://www.youtube.com/@PW-Foundation/videos\"\n",
    "driver.get(youtube_url)\n",
    "driver.implicitly_wait(10)\n",
    "youtube_source = driver.page_source\n",
    "youtube_html = bs(youtube_source, \"html.parser\")\n",
    "#driver.close()"
   ]
  },
  {
   "cell_type": "markdown",
   "id": "0349c892",
   "metadata": {},
   "source": [
    "#### Q1. Write a python program to extract the video URL of the first five videos."
   ]
  },
  {
   "cell_type": "code",
   "execution_count": 42,
   "id": "24e4cd0b",
   "metadata": {},
   "outputs": [
    {
     "name": "stdout",
     "output_type": "stream",
     "text": [
      "https://www.youtube.com//watch?v=nX5ONgCdLcc\n",
      "https://www.youtube.com//watch?v=AM2Dt7cNebw\n",
      "https://www.youtube.com//watch?v=7nMJVhey9TM\n",
      "https://www.youtube.com//watch?v=FSVVlcFUCMk\n",
      "https://www.youtube.com//watch?v=vKxdTuOirnI\n"
     ]
    }
   ],
   "source": [
    "## extract video urls\n",
    "youtube_a_tags = youtube_html.find_all('a',class_=\"ytd-thumbnail\")\n",
    "youtube_a_tags = youtube_a_tags[1:6]\n",
    "youtube_extract_urls = []\n",
    "for i in youtube_a_tags:\n",
    "    youtube_extract_urls.append(\"https://www.youtube.com/\"+i.get('href'))\n",
    "    print(\"https://www.youtube.com/\"+i.get('href'))"
   ]
  },
  {
   "cell_type": "markdown",
   "id": "bf341922",
   "metadata": {},
   "source": [
    "#### Q2. Write a python program to extract the URL of the video thumbnails of the first five videos."
   ]
  },
  {
   "cell_type": "code",
   "execution_count": 43,
   "id": "c3dc1770",
   "metadata": {},
   "outputs": [],
   "source": [
    "## extract thumbnail url"
   ]
  },
  {
   "cell_type": "code",
   "execution_count": 44,
   "id": "48c41f35",
   "metadata": {},
   "outputs": [
    {
     "name": "stdout",
     "output_type": "stream",
     "text": [
      "https://i.ytimg.com/vi/nX5ONgCdLcc/maxresdefault.jpg\n",
      "https://i.ytimg.com/vi/AM2Dt7cNebw/maxresdefault.jpg\n",
      "https://i.ytimg.com/vi/7nMJVhey9TM/maxresdefault.jpg\n",
      "https://i.ytimg.com/vi/FSVVlcFUCMk/maxresdefault.jpg\n",
      "https://i.ytimg.com/vi/vKxdTuOirnI/maxresdefault.jpg\n"
     ]
    }
   ],
   "source": [
    "youtube_extract_thumbnails = []\n",
    "for i in youtube_extract_urls:\n",
    "    driver.get(i)\n",
    "    video_page_source = bs(driver.page_source,\"html.parser\")\n",
    "    find = video_page_source.find('link',itemprop=\"thumbnailUrl\")\n",
    "    youtube_extract_thumbnails.append(find['href'])\n",
    "for thumbnail in youtube_extract_thumbnails:\n",
    "    print(thumbnail)"
   ]
  },
  {
   "cell_type": "markdown",
   "id": "37f7128d",
   "metadata": {},
   "source": [
    "#### Q3. Write a python program to extract the title of the first five videos."
   ]
  },
  {
   "cell_type": "code",
   "execution_count": 45,
   "id": "e9066fdf",
   "metadata": {},
   "outputs": [
    {
     "name": "stdout",
     "output_type": "stream",
     "text": [
      "How to Attempt English Board Exam ????\n",
      "Best technique to attempt SST paper in Board exam || Class 10th\n",
      "Last Minute Strategy To Score More Than 98% || ICSE Boards || Class-10th\n",
      "Why You Should Choose Commerce After 10th? || Complete Information💯\n",
      "Follow This Plan To Score More Than 95% in Boards || Topper's Strategy\n"
     ]
    }
   ],
   "source": [
    "###extract video title\n",
    "youtube_extract_titles=[]\n",
    "youtube_heading_tags = youtube_html.find_all('h3',class_=\"style-scope ytd-rich-grid-media\")\n",
    "youtube_heading_tags = youtube_heading_tags[:5]\n",
    "for i in youtube_heading_tags:\n",
    "    youtube_extract_titles.append(i.text)\n",
    "    print(i.text)"
   ]
  },
  {
   "cell_type": "markdown",
   "id": "f0864af8",
   "metadata": {},
   "source": [
    "#### Q4. Write a python program to extract the number of views of the first five videos."
   ]
  },
  {
   "cell_type": "code",
   "execution_count": 46,
   "id": "e9a35287",
   "metadata": {},
   "outputs": [
    {
     "name": "stdout",
     "output_type": "stream",
     "text": [
      "122K views\n",
      "54K views\n",
      "22K views\n",
      "28K views\n",
      "313K views\n"
     ]
    }
   ],
   "source": [
    "#no of views\n",
    "youtube_extract_views=[]\n",
    "youtube_span_tags = youtube_html.find_all('span',class_=\"inline-metadata-item style-scope ytd-video-meta-block\")\n",
    "views_pattern = re.compile(\"\\d+.*views\")\n",
    "\n",
    "views_spans = []\n",
    "for span in youtube_span_tags:\n",
    "    if views_pattern.search(span.text):\n",
    "        views_spans.append(span)\n",
    "        \n",
    "views_spans = views_spans[:5]\n",
    "for span in views_spans:\n",
    "    youtube_extract_views.append(span.text)\n",
    "    print(span.text)"
   ]
  },
  {
   "cell_type": "markdown",
   "id": "95b59844",
   "metadata": {},
   "source": [
    "#### Q5. Write a python program to extract the time of posting of video for the first five videos."
   ]
  },
  {
   "cell_type": "code",
   "execution_count": 47,
   "id": "ddb98dc6",
   "metadata": {},
   "outputs": [
    {
     "name": "stdout",
     "output_type": "stream",
     "text": [
      "1 day ago\n",
      "2 days ago\n",
      "3 days ago\n",
      "4 days ago\n",
      "9 days ago\n"
     ]
    }
   ],
   "source": [
    "# time of upload\n",
    "views_pattern = re.compile(\"\\d+.*ago\")\n",
    "youtube_extract_upload_time=[]\n",
    "views_spans = []\n",
    "for span in youtube_span_tags:\n",
    "    if views_pattern.search(span.text):\n",
    "        views_spans.append(span)\n",
    "        \n",
    "        \n",
    "# views_spans = [span for span in youtube_span_tags if views_pattern.search(span.text)]\n",
    "views_spans = views_spans[:5]\n",
    "for span in views_spans:\n",
    "    youtube_extract_upload_time.append(span.text)\n",
    "    print(span.text)\n",
    "    \n",
    "driver.close()"
   ]
  },
  {
   "cell_type": "markdown",
   "id": "534ef9cf",
   "metadata": {},
   "source": [
    "#### Save the data to the CSV file"
   ]
  },
  {
   "cell_type": "code",
   "execution_count": 50,
   "id": "cec81091",
   "metadata": {},
   "outputs": [],
   "source": [
    "data = { 'Youtube Urls': youtube_extract_urls,\n",
    "                        'Thumbnails':youtube_extract_thumbnails,\n",
    "                        'Titles':youtube_extract_titles,\n",
    "                        'Views': youtube_extract_views,\n",
    "                        'Upload Time':youtube_extract_upload_time\n",
    "                    }\n",
    "df = pd.DataFrame(data)\n",
    "\n",
    "df.to_csv('data.csv', index=False)"
   ]
  },
  {
   "cell_type": "code",
   "execution_count": null,
   "id": "58ede8d2",
   "metadata": {},
   "outputs": [],
   "source": []
  }
 ],
 "metadata": {
  "kernelspec": {
   "display_name": "Python 3 (ipykernel)",
   "language": "python",
   "name": "python3"
  },
  "language_info": {
   "codemirror_mode": {
    "name": "ipython",
    "version": 3
   },
   "file_extension": ".py",
   "mimetype": "text/x-python",
   "name": "python",
   "nbconvert_exporter": "python",
   "pygments_lexer": "ipython3",
   "version": "3.9.13"
  }
 },
 "nbformat": 4,
 "nbformat_minor": 5
}
