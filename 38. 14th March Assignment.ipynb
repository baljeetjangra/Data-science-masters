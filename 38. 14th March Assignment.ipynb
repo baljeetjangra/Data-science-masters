{
 "cells": [
  {
   "attachments": {},
   "cell_type": "markdown",
   "metadata": {},
   "source": [
    "#### Q1. Write a Python function that takes in two arrays of data and calculates the F-value for a variance ratio test. The function should return the F-value and the corresponding p-value for the test."
   ]
  },
  {
   "cell_type": "code",
   "execution_count": 1,
   "metadata": {},
   "outputs": [
    {
     "name": "stdout",
     "output_type": "stream",
     "text": [
      "F-value: 25.0\n",
      "p-value: 0.0010528257933665399\n"
     ]
    }
   ],
   "source": [
    "import scipy.stats as stats\n",
    "\n",
    "def variance_ratio_test(data1, data2):\n",
    "    f_stat, p_value = stats.f_oneway(data1, data2)\n",
    "    return f_stat, p_value\n",
    "\n",
    "data1 = [1, 2, 3, 4, 5]\n",
    "data2 = [6, 7, 8, 9, 10]\n",
    "\n",
    "f_stat, p_value = variance_ratio_test(data1, data2)\n",
    "print(\"F-value:\", f_stat)\n",
    "print(\"p-value:\", p_value)\n"
   ]
  },
  {
   "attachments": {},
   "cell_type": "markdown",
   "metadata": {},
   "source": [
    "#### Q2. Given a significance level of 0.05 and the degrees of freedom for the numerator and denominator of an F-distribution, write a Python function that returns the critical F-value for a two-tailed test."
   ]
  },
  {
   "cell_type": "code",
   "execution_count": 2,
   "metadata": {},
   "outputs": [
    {
     "name": "stdout",
     "output_type": "stream",
     "text": [
      "The critical F-value is 0.0698\n"
     ]
    }
   ],
   "source": [
    "from scipy.stats import f\n",
    "\n",
    "def critical_f_value(alpha, dfn, dfd):\n",
    "    \"\"\"\n",
    "    Calculates the critical F-value for a two-tailed test given a significance level and degrees of freedom\n",
    "    for the numerator and denominator.\n",
    "    \n",
    "    Args:\n",
    "    alpha (float): Significance level\n",
    "    dfn (int): Degrees of freedom for the numerator\n",
    "    dfd (int): Degrees of freedom for the denominator\n",
    "    \n",
    "    Returns:\n",
    "    float: Critical F-value\n",
    "    \"\"\"\n",
    "    return f.ppf(alpha/2, dfn, dfd), f.ppf(1 - alpha/2, dfn, dfd)\n",
    "\n",
    "# Import the function\n",
    "from scipy.stats import f\n",
    "\n",
    "# Define the degrees of freedom\n",
    "dfn = 3\n",
    "dfd = 12\n",
    "\n",
    "# Set the significance level\n",
    "alpha = 0.05\n",
    "\n",
    "# Call the function to get the critical F-value\n",
    "critical_f = f.ppf(alpha / 2, dfn, dfd, loc=0, scale=1)\n",
    "\n",
    "# Print the result\n",
    "print(f\"The critical F-value is {critical_f:.4f}\")\n"
   ]
  },
  {
   "attachments": {},
   "cell_type": "markdown",
   "metadata": {},
   "source": [
    "#### Q3. Write a Python program that generates random samples from two normal distributions with known variances and uses an F-test to determine if the variances are equal. The program should output the F-value, degrees of freedom, and p-value for the test."
   ]
  },
  {
   "cell_type": "code",
   "execution_count": 3,
   "metadata": {},
   "outputs": [
    {
     "name": "stdout",
     "output_type": "stream",
     "text": [
      "F-value: 0.7792593732703956\n",
      "Degrees of freedom: 49 , 74\n",
      "p-value: 0.35403562472938904\n"
     ]
    }
   ],
   "source": [
    "import numpy as np\n",
    "from scipy.stats import f\n",
    "\n",
    "# Set random seed for reproducibility\n",
    "np.random.seed(123)\n",
    "\n",
    "# Generate random samples\n",
    "n1, n2 = 50, 75  # sample sizes\n",
    "mu1, mu2 = 10, 10  # means\n",
    "var1, var2 = 4, 6  # known variances\n",
    "data1 = np.random.normal(mu1, np.sqrt(var1), n1)\n",
    "data2 = np.random.normal(mu2, np.sqrt(var2), n2)\n",
    "\n",
    "# Calculate F-statistic and p-value\n",
    "f_stat = np.var(data1, ddof=1) / np.var(data2, ddof=1)\n",
    "df1, df2 = n1 - 1, n2 - 1\n",
    "p_val = 2 * min(f.cdf(f_stat, df1, df2), 1 - f.cdf(f_stat, df1, df2))\n",
    "\n",
    "# Output results\n",
    "print(\"F-value:\", f_stat)\n",
    "print(\"Degrees of freedom:\", df1, \",\", df2)\n",
    "print(\"p-value:\", p_val)\n"
   ]
  },
  {
   "attachments": {},
   "cell_type": "markdown",
   "metadata": {},
   "source": [
    "#### Q4.The variances of two populations are known to be 10 and 15. A sample of 12 observations is taken from each population. Conduct an F-test at the 5% significance level to determine if the variances are significantly different."
   ]
  },
  {
   "attachments": {},
   "cell_type": "markdown",
   "metadata": {},
   "source": [
    "Ans - Given,\n",
    "\n",
    "Sample size from population 1 (n1) = 12\n",
    "Sample size from population 2 (n2) = 12\n",
    "Variance of population 1 (s1^2) = 10\n",
    "Variance of population 2 (s2^2) = 15\n",
    "Significance level (α) = 0.05\n",
    "We can use an F-test to determine if the variances are significantly different.\n",
    "\n",
    "The null and alternative hypotheses for the F-test are:\n",
    "\n",
    "H0: σ1^2 = σ2^2 (The variances are equal)\n",
    "Ha: σ1^2 ≠ σ2^2 (The variances are not equal)\n",
    "The F-statistic can be calculated using the formula:\n",
    "\n",
    "F = s1^2/s2^2\n",
    "\n",
    "Under the null hypothesis, the F-statistic follows an F-distribution with degrees of freedom (df1, df2), where df1 = n1 - 1 and df2 = n2 - 1.\n",
    "\n",
    "To find the critical F-value for a two-tailed test with α = 0.05 and df1 = 11 and df2 = 11, we can use the scipy.stats module in Python:"
   ]
  },
  {
   "cell_type": "code",
   "execution_count": 4,
   "metadata": {},
   "outputs": [
    {
     "name": "stdout",
     "output_type": "stream",
     "text": [
      "Fail to reject the null hypothesis\n"
     ]
    }
   ],
   "source": [
    "import scipy.stats as stats\n",
    "\n",
    "alpha = 0.05\n",
    "df1 = 11\n",
    "df2 = 11\n",
    "crit_val = stats.f.ppf(alpha/2, df1, df2)\n",
    "s1_sq = 10\n",
    "s2_sq = 15\n",
    "F = s1_sq/s2_sq\n",
    "if F < crit_val or F > 1/crit_val:\n",
    "    print(\"Reject the null hypothesis\")\n",
    "else:\n",
    "    print(\"Fail to reject the null hypothesis\")\n"
   ]
  },
  {
   "attachments": {},
   "cell_type": "markdown",
   "metadata": {},
   "source": [
    "#### Q5. A manufacturer claims that the variance of the diameter of a certain product is 0.005. A sample of 25 products is taken, and the sample variance is found to be 0.006. Conduct an F-test at the 1% significance level to determine if the claim is justified."
   ]
  },
  {
   "attachments": {},
   "cell_type": "markdown",
   "metadata": {},
   "source": [
    "Ans - To conduct the F-test, we can use the following hypotheses:\n",
    "\n",
    "Null hypothesis: The population variance of the diameter of the product is equal to 0.005.\n",
    "Alternative hypothesis: The population variance of the diameter of the product is not equal to 0.005.\n",
    "\n",
    "We can use the F-test formula to calculate the test statistic:\n",
    "\n",
    "F = s2 / σ2\n",
    "\n",
    "where s2 is the sample variance and σ2 is the population variance.\n",
    "\n",
    "For this problem, we have:\n",
    "\n",
    "s2 = 0.006\n",
    "σ2 = 0.005\n",
    "n = 25\n",
    "\n",
    "So, the F-value can be calculated as:\n",
    "\n",
    "F = s2 / σ2 = 0.006 / 0.005 = 1.2\n",
    "\n",
    "To determine if this F-value is significant at the 1% significance level, we need to find the critical F-value. Since we have a one-tailed test (the alternative hypothesis is \"not equal\"), we need to find the critical values for both tails.\n",
    "\n",
    "Using a calculator or a table, we find that the critical F-values are 0.368 and 3.846 for a degrees of freedom of 24 and 1% significance level.\n",
    "\n",
    "Since our calculated F-value of 1.2 falls within this range, we fail to reject the null hypothesis. This means that we do not have sufficient evidence to conclude that the population variance is different from 0.005. Therefore, the manufacturer's claim is justified."
   ]
  },
  {
   "attachments": {},
   "cell_type": "markdown",
   "metadata": {},
   "source": [
    "#### Q6. Write a Python function that takes in the degrees of freedom for the numerator and denominator of an F-distribution and calculates the mean and variance of the distribution. The function should return the mean and variance as a tuple."
   ]
  },
  {
   "cell_type": "code",
   "execution_count": 5,
   "metadata": {},
   "outputs": [
    {
     "name": "stdout",
     "output_type": "stream",
     "text": [
      "Mean: 1.1428571428571428\n",
      "Variance: 1.2335600907029478\n"
     ]
    }
   ],
   "source": [
    "import math\n",
    "\n",
    "def f_distribution_mean_var(df_n, df_d):\n",
    "    mean = df_d / (df_d - 2)\n",
    "    variance = (2 * (df_d ** 2) * (df_n + df_d - 2)) / ((df_n * (df_d - 2) ** 2 * (df_d - 4)))\n",
    "    return mean, variance\n",
    "\n",
    "mean, variance = f_distribution_mean_var(3, 16)\n",
    "print(\"Mean:\", mean)\n",
    "print(\"Variance:\", variance)\n"
   ]
  },
  {
   "attachments": {},
   "cell_type": "markdown",
   "metadata": {},
   "source": [
    "#### Q7. A random sample of 10 measurements is taken from a normal population with unknown variance. The sample variance is found to be 25. Another random sample of 15 measurements is taken from another normal population with unknown variance, and the sample variance is found to be 20. Conduct an F-test at the 10% significance level to determine if the variances are significantly different."
   ]
  },
  {
   "attachments": {},
   "cell_type": "markdown",
   "metadata": {},
   "source": [
    "Ans - Null Hypothesis: Variances of two populations are equal.\n",
    "\n",
    "Alternative Hypothesis: Variances of two populations are not equal.\n",
    "\n",
    "Significance level, α = 0.10\n",
    "\n",
    "Degrees of freedom for sample 1 (n1 = 10) is n1 - 1 = 9.\n",
    "\n",
    "Degrees of freedom for sample 2 (n2 = 15) is n2 - 1 = 14.\n",
    "\n",
    "Test statistic, F = s1^2/s2^2 where s1^2 is the sample variance of the first sample and s2^2 is the sample variance of the second sample.\n",
    "\n",
    "F = 25/20 = 1.25\n",
    "\n",
    "Using an F-table or a statistical software, we find the critical F-value for α = 0.10, df1 = 9, and df2 = 14 to be 2.82.\n",
    "\n",
    "Since the calculated F-value (1.25) is less than the critical F-value (2.82), we fail to reject the null hypothesis.\n",
    "\n",
    "Therefore, we do not have sufficient evidence to conclude that the variances of the two populations are significantly different at the 10% significance level."
   ]
  },
  {
   "attachments": {},
   "cell_type": "markdown",
   "metadata": {},
   "source": [
    "#### Q8. The following data represent the waiting times in minutes at two different restaurants on a Saturday night: Restaurant A: 24, 25, 28, 23, 22, 20, 27; Restaurant B: 31, 33, 35, 30, 32, 36. Conduct an F-test at the 5% significance level to determine if the variances are significantly different."
   ]
  },
  {
   "cell_type": "code",
   "execution_count": 7,
   "metadata": {},
   "outputs": [],
   "source": [
    "import numpy as np\n",
    "from scipy.stats import f\n",
    "\n",
    "def perform_f_test(sample1:list, sample2:list, alpha=0.05):\n",
    "\n",
    "    \"\"\"\n",
    "    This function will take two samples as list and perform F-test\n",
    "    and print the results\n",
    "    \"\"\"\n",
    "    \n",
    "    # Calculating Variances of both samples\n",
    "    var1 = np.var(sample1, ddof=1)\n",
    "    var2 = np.var(sample2, ddof=1)\n",
    "\n",
    "    # Null and Alternate hypothesis\n",
    "    null_hypothesis = \"Variances are similar\"\n",
    "    alternate_hypothesis =  \"Variances are significantly different\"\n",
    "\n",
    "    # Printing sample mean and variance\n",
    "    print(f'Sample 1 Mean : {np.mean(sample1):.4f}, Sample 1 Variance : {var1:.4f}')\n",
    "    print(f'Sample 2 Mean : {np.mean(sample2):.4f}, Sample 2 Variance : {var2:.4f}')\n",
    "\n",
    "    print('\\n================================================================================\\n')\n",
    "\n",
    "    # Calculate F-statistic\n",
    "    if var1 >= var2:\n",
    "        f_statistic = var1/var2\n",
    "        dfn = len(sample1)-1\n",
    "        dfd = len(sample2)-1        \n",
    "    else:\n",
    "        f_statistic = var2/var1\n",
    "        dfn = len(sample2)-1\n",
    "        dfd = len(sample1)-1\n",
    "\n",
    "    # Calculating p-value\n",
    "    p_value = 1 - f.cdf(f_statistic, dfn, dfd) \n",
    "\n",
    "    # Calculate F-critical\n",
    "    F_crit = f.ppf(1-alpha, dfn, dfd)\n",
    "\n",
    "    # print the results\n",
    "    print(f\"F-statistic: {f_statistic:.4f}\")\n",
    "    print(f\"F Critical value: {F_crit:.4f}\")\n",
    "    print(f\"P-value: {p_value:.4f}\")\n",
    "    print(f\"Significance Level: {alpha}\")\n",
    "    \n",
    "    # Determine if null hypothesis should be rejected\n",
    "    if p_value < alpha:\n",
    "        print(\"Reject null hypothesis.\")\n",
    "        print(f\"Conclusion : {alternate_hypothesis}\")\n",
    "    else:\n",
    "        print(\"FAIL to reject null hypothesis. \")\n",
    "        print(f\"Conclusion : {null_hypothesis}\")"
   ]
  },
  {
   "cell_type": "code",
   "execution_count": 8,
   "metadata": {},
   "outputs": [
    {
     "name": "stdout",
     "output_type": "stream",
     "text": [
      "Sample 1 Mean : 24.1429, Sample 1 Variance : 7.8095\n",
      "Sample 2 Mean : 32.8333, Sample 2 Variance : 5.3667\n",
      "\n",
      "================================================================================\n",
      "\n",
      "F-statistic: 1.4552\n",
      "F Critical value: 4.9503\n",
      "P-value: 0.3487\n",
      "Significance Level: 0.05\n",
      "FAIL to reject null hypothesis. \n",
      "Conclusion : Variances are similar\n"
     ]
    }
   ],
   "source": [
    "# Given Sample Data\n",
    "restaurant_A = [24, 25, 28, 23, 22, 20, 27]\n",
    "restaurant_B = [31, 33, 35, 30, 32, 36]\n",
    "\n",
    "# Perform F-test by calling the function\n",
    "perform_f_test(restaurant_A,restaurant_B,alpha=0.05)"
   ]
  },
  {
   "attachments": {},
   "cell_type": "markdown",
   "metadata": {},
   "source": [
    "#### Q9. The following data represent the test scores of two groups of students: Group A: 80, 85, 90, 92, 87, 83; Group B: 75, 78, 82, 79, 81, 84. Conduct an F-test at the 1% significance level to determine if the variances are significantly different."
   ]
  },
  {
   "attachments": {},
   "cell_type": "markdown",
   "metadata": {},
   "source": [
    "Ans - To conduct an F-test to determine if the variances of two populations are significantly different, we need to follow these steps:\n",
    "\n",
    "Calculate the sample variances of the two groups.\n",
    "Calculate the F-value using the sample variances.\n",
    "Calculate the p-value associated with the F-value.\n",
    "Compare the p-value to the chosen significance level. If the p-value is less than the significance level, we reject the null hypothesis and conclude that the variances are significantly different.\n",
    "Using Python, we can write a function to perform these steps:"
   ]
  },
  {
   "cell_type": "code",
   "execution_count": 9,
   "metadata": {},
   "outputs": [],
   "source": [
    "import numpy as np\n",
    "from scipy.stats import f\n",
    "\n",
    "def f_test(data1, data2, alpha=0.01):\n",
    "    # Step 1: Calculate the sample variances of the two groups\n",
    "    var1 = np.var(data1, ddof=1)\n",
    "    var2 = np.var(data2, ddof=1)\n",
    "    \n",
    "    # Step 2: Calculate the F-value using the sample variances\n",
    "    f_value = var1 / var2\n",
    "    \n",
    "    # Step 3: Calculate the p-value associated with the F-value\n",
    "    df1 = len(data1) - 1\n",
    "    df2 = len(data2) - 1\n",
    "    p_value = 1 - f.cdf(f_value, df1, df2)\n",
    "    \n",
    "    # Step 4: Compare the p-value to the chosen significance level\n",
    "    if p_value < alpha:\n",
    "        print(f\"The p-value ({p_value:.4f}) is less than the significance level ({alpha:.2f}).\")\n",
    "        print(\"We reject the null hypothesis and conclude that the variances are significantly different.\")\n",
    "    else:\n",
    "        print(f\"The p-value ({p_value:.4f}) is greater than the significance level ({alpha:.2f}).\")\n",
    "        print(\"We fail to reject the null hypothesis and cannot conclude that the variances are significantly different.\")\n",
    "    \n",
    "    return f_value, p_value\n"
   ]
  },
  {
   "cell_type": "code",
   "execution_count": 10,
   "metadata": {},
   "outputs": [
    {
     "name": "stdout",
     "output_type": "stream",
     "text": [
      "The p-value (0.2416) is greater than the significance level (0.01).\n",
      "We fail to reject the null hypothesis and cannot conclude that the variances are significantly different.\n",
      "F-value: 1.9443\n",
      "P-value: 0.2416\n"
     ]
    }
   ],
   "source": [
    "group_a = [80, 85, 90, 92, 87, 83]\n",
    "group_b = [75, 78, 82, 79, 81, 84]\n",
    "\n",
    "f_value, p_value = f_test(group_a, group_b, alpha=0.01)\n",
    "print(f\"F-value: {f_value:.4f}\")\n",
    "print(f\"P-value: {p_value:.4f}\")\n"
   ]
  },
  {
   "cell_type": "code",
   "execution_count": null,
   "metadata": {},
   "outputs": [],
   "source": []
  }
 ],
 "metadata": {
  "kernelspec": {
   "display_name": "data_env",
   "language": "python",
   "name": "python3"
  },
  "language_info": {
   "codemirror_mode": {
    "name": "ipython",
    "version": 3
   },
   "file_extension": ".py",
   "mimetype": "text/x-python",
   "name": "python",
   "nbconvert_exporter": "python",
   "pygments_lexer": "ipython3",
   "version": "3.9.16"
  },
  "orig_nbformat": 4
 },
 "nbformat": 4,
 "nbformat_minor": 2
}
