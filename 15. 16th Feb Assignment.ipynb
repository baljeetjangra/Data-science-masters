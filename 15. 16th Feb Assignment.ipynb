{
 "cells": [
  {
   "cell_type": "markdown",
   "id": "b7ab7c11",
   "metadata": {},
   "source": [
    "#### Q1. What is a database? Differentiate between SQL and NoSQL databases."
   ]
  },
  {
   "cell_type": "markdown",
   "id": "b89ecfc9",
   "metadata": {},
   "source": [
    "Ans - A database is an organized collection of data that can be accessed, managed, and updated easily. A database management system (DBMS) is software that helps users and applications interact with databases by providing tools for data storage, organization, retrieval, and security.\n",
    "\n",
    "SQL (Structured Query Language) and NoSQL (Not only SQL) are two types of databases that differ in their data models, querying language, and storage mechanisms.\n",
    "\n",
    "SQL databases are based on a relational data model and use SQL as the primary language for querying and managing data. SQL databases store data in tables with predefined columns and data types, and relationships between tables are defined through foreign keys. Examples of SQL databases include MySQL, Oracle, and PostgreSQL.\n",
    "\n",
    "NoSQL databases, on the other hand, use various data models such as key-value, document, column-family, or graph to store and retrieve data. NoSQL databases typically use a non-SQL query language and can handle large volumes of unstructured or semi-structured data with high velocity. Examples of NoSQL databases include MongoDB, Cassandra, and Redis.\n",
    "\n",
    "The main differences between SQL and NoSQL databases are:\n",
    "\n",
    "1. Data model: SQL databases use a relational data model based on tables with predefined columns and relationships between them, while NoSQL databases use various data models such as key-value, document, column-family, or graph.\n",
    "\n",
    "2. Query language: SQL databases use SQL as the primary language for querying and managing data, while NoSQL databases use non-SQL query languages specific to the data model used."
   ]
  },
  {
   "cell_type": "markdown",
   "id": "5fe61f1e",
   "metadata": {},
   "source": [
    "#### Q2. What is DDL? Explain why CREATE, DROP, ALTER, and TRUNCATE are used with an example."
   ]
  },
  {
   "cell_type": "markdown",
   "id": "48aef5da",
   "metadata": {},
   "source": [
    "DDL stands for Data Definition Language. It is a subset of SQL that is used to define the database schema and its structure. The four main DDL commands are CREATE, DROP, ALTER, and TRUNCATE, and they are used for the following purposes:\n",
    "\n",
    "1. CREATE: The CREATE command is used to create a new table or a new database in SQL. For example, consider the following command that creates a new table named \"employees\" with three columns - \"id\", \"name\", and \"salary\":\n",
    "\n",
    "CREATE TABLE employees (\n",
    "   id INT PRIMARY KEY,\n",
    "   name VARCHAR(50),\n",
    "   salary INT\n",
    ");\n",
    "\n",
    "2. DROP: The DROP command is used to delete an existing database or table in SQL. For example, consider the following command that drops the \"employees\" table:\n",
    "\n",
    "DROP TABLE employees;\n",
    "\n",
    "3. ALTER: The ALTER command is used to modify the structure of an existing table in SQL. For example, consider the following command that adds a new column \"age\" to the \"employees\" table:\n",
    "\n",
    "ALTER TABLE employees ADD age INT;\n",
    "\n",
    "4. TRUNCATE: The TRUNCATE command is used to remove all the data from a table in SQL. For example, consider the following command that removes all the data from the \"employees\" table:\n",
    "\n",
    "TRUNCATE TABLE employees;\n"
   ]
  },
  {
   "cell_type": "markdown",
   "id": "3b3a62a3",
   "metadata": {},
   "source": [
    "#### Q3. What is DML? Explain INSERT, UPDATE, and DELETE with an example."
   ]
  },
  {
   "cell_type": "markdown",
   "id": "891aef4a",
   "metadata": {},
   "source": [
    "Ans -\n",
    "DML stands for Data Manipulation Language. It is used to manipulate data within a database. The three main commands in DML are INSERT, UPDATE, and DELETE.\n",
    "\n",
    "1. INSERT: This command is used to insert new data into a table. The basic syntax for INSERT command is:\n",
    "\n",
    "INSERT INTO students (id, name, age, class)\n",
    "VALUES (101, 'John', 20, 'B.Tech');\n",
    "\n",
    "2. UPDATE: This command is used to modify existing data in a table. The basic syntax for UPDATE command is:\n",
    "\n",
    "UPDATE students\n",
    "SET age = 21\n",
    "WHERE id = 101;\n",
    "\n",
    "3. DELETE: This command is used to delete existing data from a table. The basic syntax for DELETE command is:\n",
    "\n",
    "DELETE FROM students WHERE id = 101;\n"
   ]
  },
  {
   "cell_type": "markdown",
   "id": "76ee666e",
   "metadata": {},
   "source": [
    "#### Q4. What is DQL? Explain SELECT with an example."
   ]
  },
  {
   "cell_type": "markdown",
   "id": "4d826cb7",
   "metadata": {},
   "source": [
    "Ans - DQL stands for Data Query Language, which is used to retrieve data from a database. The SELECT statement is the most common DQL command used to retrieve data from one or more tables"
   ]
  },
  {
   "cell_type": "markdown",
   "id": "168c6005",
   "metadata": {},
   "source": [
    "Suppose we have a table named students with the following columns: id, name, age, and score. We want to retrieve the names and scores of all the students who are above 18 years old. The SQL query for this would be:\n",
    "\n",
    "SELECT name, score\n",
    "FROM students\n",
    "WHERE age > 18;\n"
   ]
  },
  {
   "cell_type": "markdown",
   "id": "ef8d5647",
   "metadata": {},
   "source": [
    "#### Q5. Explain Primary Key and Foreign Key."
   ]
  },
  {
   "cell_type": "markdown",
   "id": "f87c3a1f",
   "metadata": {},
   "source": [
    "Ans -\n",
    "A primary key is a unique identifier for each record in a table. It is a column or a set of columns that uniquely identifies each row in the table. A primary key is used to ensure that each row in the table is unique and can be identified uniquely. In most cases, a primary key is a single column, such as an ID number, but it can also be a combination of columns.\n",
    "\n",
    "For example, consider a table named students that contains information about students. Each student has a unique ID number, which can be used as a primary key for the table. The primary key ensures that no two students in the table have the same ID number.\n",
    "\n",
    "In database management systems, a primary key and a foreign key are two important concepts that are used to establish relationships between tables.\n",
    "\n",
    "A foreign key, on the other hand, is a column or a set of columns in one table that refers to the primary key of another table. It is used to establish relationships between tables. In other words, a foreign key is a way to link two tables together based on a common field.\n",
    "\n",
    "For example, consider two tables: students and courses. The students table has a primary key column named student_id, while the courses table has a primary key column named course_id. To establish a relationship between the two tables, the courses table can include a foreign key column named student_id that references the student_id column in the students table. This foreign key ensures that each course in the courses table is associated with a specific student in the students table."
   ]
  },
  {
   "cell_type": "markdown",
   "id": "227fefcb",
   "metadata": {},
   "source": [
    "#### Q6. Write a python code to connect MySQL to python. Explain the cursor() and execute() method."
   ]
  },
  {
   "cell_type": "markdown",
   "id": "743f49a2",
   "metadata": {},
   "source": [
    "Ans -\n",
    "To connect MySQL to Python, we can use the mysql-connector-python module. Here's an example code that connects to a MySQL database, creates a table, inserts some data, and retrieves it using the cursor() and execute() methods:"
   ]
  },
  {
   "cell_type": "code",
   "execution_count": null,
   "id": "5665ed63",
   "metadata": {},
   "outputs": [],
   "source": [
    "import mysql.connector\n",
    "\n",
    "# Connect to the MySQL database\n",
    "mydb = mysql.connector.connect(\n",
    "  host=\"localhost\",\n",
    "  user=\"yourusername\",\n",
    "  password=\"yourpassword\",\n",
    "  database=\"mydatabase\"\n",
    ")\n",
    "\n",
    "# Create a cursor object\n",
    "mycursor = mydb.cursor()\n",
    "\n",
    "# Create a table\n",
    "mycursor.execute(\"CREATE TABLE customers (name VARCHAR(255), address VARCHAR(255))\")\n",
    "\n",
    "# Insert some data\n",
    "sql = \"INSERT INTO customers (name, address) VALUES (%s, %s)\"\n",
    "val = (\"John\", \"Highway 21\")\n",
    "mycursor.execute(sql, val)\n",
    "mydb.commit()\n",
    "print(mycursor.rowcount, \"record inserted.\")\n",
    "\n",
    "# Retrieve the data\n",
    "mycursor.execute(\"SELECT * FROM customers\")\n",
    "myresult = mycursor.fetchall()\n",
    "for x in myresult:\n",
    "  print(x)\n"
   ]
  },
  {
   "cell_type": "markdown",
   "id": "a8d8d7a0",
   "metadata": {},
   "source": [
    "we create a cursor object using the cursor() method. The cursor is used to execute SQL statements and retrieve data from the database.\n",
    "\n",
    "We then create a table using the execute() method and passing the SQL statement as a string."
   ]
  },
  {
   "cell_type": "markdown",
   "id": "ed91a57b",
   "metadata": {},
   "source": [
    "#### Q7. Give the order of execution of SQL clauses in an SQL query."
   ]
  },
  {
   "cell_type": "markdown",
   "id": "ba9d86f9",
   "metadata": {},
   "source": [
    "Ans -\n",
    "The order of execution of SQL clauses in an SQL query is as follows:\n",
    "\n",
    "FROM,\n",
    "WHERE,\n",
    "GROUP BY,\n",
    "HAVING,\n",
    "SELECT,\n",
    "DISTINCT,\n",
    "ORDER BY,\n",
    "LIMIT/OFFSET"
   ]
  },
  {
   "cell_type": "code",
   "execution_count": null,
   "id": "65aee3e2",
   "metadata": {},
   "outputs": [],
   "source": []
  }
 ],
 "metadata": {
  "kernelspec": {
   "display_name": "Python 3 (ipykernel)",
   "language": "python",
   "name": "python3"
  },
  "language_info": {
   "codemirror_mode": {
    "name": "ipython",
    "version": 3
   },
   "file_extension": ".py",
   "mimetype": "text/x-python",
   "name": "python",
   "nbconvert_exporter": "python",
   "pygments_lexer": "ipython3",
   "version": "3.9.13"
  }
 },
 "nbformat": 4,
 "nbformat_minor": 5
}
