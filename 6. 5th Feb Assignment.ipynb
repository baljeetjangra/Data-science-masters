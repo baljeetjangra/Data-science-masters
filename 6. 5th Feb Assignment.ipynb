{
 "cells": [
  {
   "cell_type": "markdown",
   "id": "863269de",
   "metadata": {},
   "source": [
    "### Q1. Explain Class and Object with respect to Object-Oriented Programming. Give a suitable example."
   ]
  },
  {
   "cell_type": "markdown",
   "id": "dafe3cf0",
   "metadata": {},
   "source": [
    "Class is a blueprint or a template for creating objects. It defines a set of attributes and methods that an object of that class will have. An object is an instance of a class and represents a specific entity in the real world, having its own attributes and methods.\n",
    "\n",
    "Example: Consider a class \"Car\" that can have attributes like make, model, year and methods like start, stop, drive. An object of this class could be a specific car, say \"Honda\". This specific car will have the attributes make=\"Honda\", model=\"SV\", year=2022 and can perform the methods start, stop and drive."
   ]
  },
  {
   "cell_type": "markdown",
   "id": "ed7be47a",
   "metadata": {},
   "source": [
    "### Q2. Name the four pillars of OOPs."
   ]
  },
  {
   "cell_type": "markdown",
   "id": "c47f7f6b",
   "metadata": {},
   "source": [
    "The four pillars of Object-Oriented Programming (OOP) are:\n",
    "\n",
    "Encapsulation: The idea of wrapping data and functions that operate on that data within a single unit or object.\n",
    "\n",
    "Abstraction: The concept of hiding implementation details from the user and exposing only the necessary information and functionality.\n",
    "\n",
    "Inheritance: The mechanism of acquiring properties and behaviors from a parent class to a child class.\n",
    "\n",
    "Polymorphism: The property of an object to take on many forms. It allows objects of different classes to be treated as objects of a single class."
   ]
  },
  {
   "cell_type": "markdown",
   "id": "af69a3d2",
   "metadata": {},
   "source": [
    "### Q3. Explain why the __init__() function is used. Give a suitable example."
   ]
  },
  {
   "cell_type": "markdown",
   "id": "adbeff2d",
   "metadata": {},
   "source": [
    "The __init__() function, also known as the constructor, is used in Python classes to initialize the object's state when it is created. It is called automatically when an object of a class is created, and it can accept parameters that can be used to set the initial state of the object.\n",
    "\n",
    "Example: Consider a class \"Person\" with attributes name, age, and address. The __init__() function could be used to initialize the state of a new person object when it is created:"
   ]
  },
  {
   "cell_type": "code",
   "execution_count": 2,
   "id": "810c2420",
   "metadata": {},
   "outputs": [],
   "source": [
    "class Person:\n",
    "    def __init__(self, name, age, address):\n",
    "        self.name = name\n",
    "        self.age = age\n",
    "        self.address = address\n",
    "\n",
    "person = Person(\"John Doe\", 30, \"123 Main St\")\n"
   ]
  },
  {
   "cell_type": "code",
   "execution_count": 8,
   "id": "63f716de",
   "metadata": {},
   "outputs": [
    {
     "name": "stdout",
     "output_type": "stream",
     "text": [
      "John Doe\n",
      "30\n",
      "123 Main St\n"
     ]
    }
   ],
   "source": [
    "print(person.name)\n",
    "print(person.age)\n",
    "print(person.address)"
   ]
  },
  {
   "cell_type": "markdown",
   "id": "d85c0892",
   "metadata": {},
   "source": [
    "### Q4. Why self is used in OOPs?"
   ]
  },
  {
   "cell_type": "markdown",
   "id": "8a030d36",
   "metadata": {},
   "source": [
    "The self keyword is used to refer to the instance of an object that is calling a method. It is a reference to the current object, and it is used to access instance variables and methods from within the class.\n",
    "\n",
    "Each object of a class has its own separate copy of instance variables, and the self keyword ensures that the correct instance's variables are being accessed and modified. Without the self keyword, it would be impossible to distinguish between instance variables and local variables within the same method.\n",
    "\n",
    "Example: Consider a class Person with instance variables name and age. A method get_age could be defined to return the age of a person object:"
   ]
  },
  {
   "cell_type": "code",
   "execution_count": 9,
   "id": "4ffd5fdd",
   "metadata": {},
   "outputs": [
    {
     "name": "stdout",
     "output_type": "stream",
     "text": [
      "30\n"
     ]
    }
   ],
   "source": [
    "class Person:\n",
    "    def __init__(self, name, age):\n",
    "        self.name = name\n",
    "        self.age = age\n",
    "\n",
    "    def get_age(self):\n",
    "        return self.age\n",
    "\n",
    "person = Person(\"John Doe\", 30)\n",
    "print(person.get_age())\n"
   ]
  },
  {
   "cell_type": "markdown",
   "id": "0c978602",
   "metadata": {},
   "source": [
    "### Q5. What is inheritance? Give an example for each type of inheritance."
   ]
  },
  {
   "cell_type": "markdown",
   "id": "b6f38e9e",
   "metadata": {},
   "source": [
    "Inheritance is a mechanism in Object-Oriented Programming (OOP) where a new class can inherit properties and behaviors from an existing class."
   ]
  },
  {
   "cell_type": "markdown",
   "id": "a11cdfac",
   "metadata": {},
   "source": [
    "1. Single Inheritance: When a class inherits from only one base class, it is called Single Inheritance."
   ]
  },
  {
   "cell_type": "code",
   "execution_count": 10,
   "id": "38ab7bea",
   "metadata": {},
   "outputs": [
    {
     "name": "stdout",
     "output_type": "stream",
     "text": [
      "This is a Dog with 4 legs.\n"
     ]
    }
   ],
   "source": [
    "class Animal:\n",
    "    def __init__(self, species, legs):\n",
    "        self.species = species\n",
    "        self.legs = legs\n",
    "        \n",
    "    def info(self):\n",
    "        print(f\"This is a {self.species} with {self.legs} legs.\")\n",
    "        \n",
    "class Dog(Animal):\n",
    "    def __init__(self, breed):\n",
    "        Animal.__init__(self, \"Dog\", 4)\n",
    "        self.breed = breed\n",
    "        \n",
    "dog = Dog(\"Labrador\")\n",
    "dog.info()\n",
    "\n"
   ]
  },
  {
   "cell_type": "markdown",
   "id": "37284885",
   "metadata": {},
   "source": [
    "2. Multi-level Inheritance: When a class inherits from a base class and then that class inherits from another base class, it is called Multi-level Inheritance."
   ]
  },
  {
   "cell_type": "code",
   "execution_count": 11,
   "id": "2366806a",
   "metadata": {},
   "outputs": [
    {
     "name": "stdout",
     "output_type": "stream",
     "text": [
      "This is a Mammal with 4 legs.\n"
     ]
    }
   ],
   "source": [
    "class Animal:\n",
    "    def __init__(self, species, legs):\n",
    "        self.species = species\n",
    "        self.legs = legs\n",
    "        \n",
    "    def info(self):\n",
    "        print(f\"This is a {self.species} with {self.legs} legs.\")\n",
    "        \n",
    "class Mammal(Animal):\n",
    "    def __init__(self, breed):\n",
    "        Animal.__init__(self, \"Mammal\", 4)\n",
    "        self.breed = breed\n",
    "        \n",
    "class Dog(Mammal):\n",
    "    def __init__(self, breed):\n",
    "        Mammal.__init__(self, breed)\n",
    "        \n",
    "dog = Dog(\"Labrador\")\n",
    "dog.info()\n",
    "\n"
   ]
  },
  {
   "cell_type": "code",
   "execution_count": null,
   "id": "e6e74205",
   "metadata": {},
   "outputs": [],
   "source": [
    "3. Multiple Inheritance: When a class inherits from multiple base classes, it is called Multiple Inheritance."
   ]
  }
 ],
 "metadata": {
  "kernelspec": {
   "display_name": "Python 3 (ipykernel)",
   "language": "python",
   "name": "python3"
  },
  "language_info": {
   "codemirror_mode": {
    "name": "ipython",
    "version": 3
   },
   "file_extension": ".py",
   "mimetype": "text/x-python",
   "name": "python",
   "nbconvert_exporter": "python",
   "pygments_lexer": "ipython3",
   "version": "3.9.13"
  }
 },
 "nbformat": 4,
 "nbformat_minor": 5
}
