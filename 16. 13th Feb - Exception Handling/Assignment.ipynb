{
 "cells": [
  {
   "cell_type": "markdown",
   "id": "98b0beb4",
   "metadata": {},
   "source": [
    "#### Q1. Explain why we have to use the Exception class while creating a Custom Exception.\n",
    "##### Note: Here Exception class refers to the base class for all the exceptions."
   ]
  },
  {
   "cell_type": "markdown",
   "id": "d3267111",
   "metadata": {},
   "source": [
    "Ans - In Python, the Exception class is the base class for all built-in and user-defined exceptions. When we create a custom exception, we usually subclass the Exception class to inherit its properties and behavior.\n",
    "\n",
    "By subclassing the Exception class, our custom exception can have all the features and attributes of a regular Python exception, such as the ability to store and pass along additional information about the error, the ability to handle and propagate the error through try-except blocks, and the ability to specify the exception hierarchy for more complex programs.\n",
    "\n",
    "In addition, using the Exception class as the base class for our custom exception makes our code more readable and consistent. It clearly signals to other developers that our custom exception is intended to be used like a standard Python exception.\n",
    "\n",
    "Therefore, using the Exception class as the base class for our custom exception is a best practice in Python and ensures that our custom exception behaves correctly within the language's exception hierarchy and provides consistent behavior with built-in exceptions."
   ]
  },
  {
   "cell_type": "markdown",
   "id": "77142900",
   "metadata": {},
   "source": [
    "#### Q2. Write a python program to print Python Exception Hierarchy."
   ]
  },
  {
   "cell_type": "markdown",
   "id": "5400bddf",
   "metadata": {},
   "source": [
    "Ans -"
   ]
  },
  {
   "cell_type": "code",
   "execution_count": 2,
   "id": "657fb364",
   "metadata": {},
   "outputs": [
    {
     "name": "stdout",
     "output_type": "stream",
     "text": [
      "Help on class Exception in module builtins:\n",
      "\n",
      "class Exception(BaseException)\n",
      " |  Common base class for all non-exit exceptions.\n",
      " |  \n",
      " |  Method resolution order:\n",
      " |      Exception\n",
      " |      BaseException\n",
      " |      object\n",
      " |  \n",
      " |  Built-in subclasses:\n",
      " |      ArithmeticError\n",
      " |      AssertionError\n",
      " |      AttributeError\n",
      " |      BufferError\n",
      " |      ... and 15 other subclasses\n",
      " |  \n",
      " |  Methods defined here:\n",
      " |  \n",
      " |  __init__(self, /, *args, **kwargs)\n",
      " |      Initialize self.  See help(type(self)) for accurate signature.\n",
      " |  \n",
      " |  ----------------------------------------------------------------------\n",
      " |  Static methods defined here:\n",
      " |  \n",
      " |  __new__(*args, **kwargs) from builtins.type\n",
      " |      Create and return a new object.  See help(type) for accurate signature.\n",
      " |  \n",
      " |  ----------------------------------------------------------------------\n",
      " |  Methods inherited from BaseException:\n",
      " |  \n",
      " |  __delattr__(self, name, /)\n",
      " |      Implement delattr(self, name).\n",
      " |  \n",
      " |  __getattribute__(self, name, /)\n",
      " |      Return getattr(self, name).\n",
      " |  \n",
      " |  __reduce__(...)\n",
      " |      Helper for pickle.\n",
      " |  \n",
      " |  __repr__(self, /)\n",
      " |      Return repr(self).\n",
      " |  \n",
      " |  __setattr__(self, name, value, /)\n",
      " |      Implement setattr(self, name, value).\n",
      " |  \n",
      " |  __setstate__(...)\n",
      " |  \n",
      " |  __str__(self, /)\n",
      " |      Return str(self).\n",
      " |  \n",
      " |  with_traceback(...)\n",
      " |      Exception.with_traceback(tb) --\n",
      " |      set self.__traceback__ to tb and return self.\n",
      " |  \n",
      " |  ----------------------------------------------------------------------\n",
      " |  Data descriptors inherited from BaseException:\n",
      " |  \n",
      " |  __cause__\n",
      " |      exception cause\n",
      " |  \n",
      " |  __context__\n",
      " |      exception context\n",
      " |  \n",
      " |  __dict__\n",
      " |  \n",
      " |  __suppress_context__\n",
      " |  \n",
      " |  __traceback__\n",
      " |  \n",
      " |  args\n",
      "\n"
     ]
    }
   ],
   "source": [
    "help(Exception)\n"
   ]
  },
  {
   "cell_type": "markdown",
   "id": "d1f9d752",
   "metadata": {},
   "source": [
    "When we run this program, the help() function will print information about the Exception class and its subclasses, including the Python Exception Hierarchy. This hierarchy includes all the built-in exceptions in Python, organized in a hierarchical structure. Each exception is a subclass of a more general exception, with Exception at the root of the hierarchy."
   ]
  },
  {
   "cell_type": "markdown",
   "id": "f794ed81",
   "metadata": {},
   "source": [
    "#### Q3. What errors are defined in the ArithmeticError class? Explain any two with an example."
   ]
  },
  {
   "cell_type": "markdown",
   "id": "b7a61fae",
   "metadata": {},
   "source": [
    "Ans - The ArithmeticError class is a built-in exception class in Python that is raised when arithmetic operations fail. It is the base class for many other exceptions, such as ZeroDivisionError, OverflowError, and FloatingPointError.\n",
    "\n",
    "Here are two examples of errors defined in the ArithmeticError class:"
   ]
  },
  {
   "cell_type": "markdown",
   "id": "93de25fc",
   "metadata": {},
   "source": [
    "ZeroDivisionError: This exception is raised when you try to divide a number by zero. For example:"
   ]
  },
  {
   "cell_type": "code",
   "execution_count": 3,
   "id": "ea1cb382",
   "metadata": {},
   "outputs": [
    {
     "ename": "ZeroDivisionError",
     "evalue": "division by zero",
     "output_type": "error",
     "traceback": [
      "\u001b[1;31m---------------------------------------------------------------------------\u001b[0m",
      "\u001b[1;31mZeroDivisionError\u001b[0m                         Traceback (most recent call last)",
      "\u001b[1;32m~\\AppData\\Local\\Temp\\ipykernel_16160\\3098237011.py\u001b[0m in \u001b[0;36m<module>\u001b[1;34m\u001b[0m\n\u001b[0;32m      1\u001b[0m \u001b[0ma\u001b[0m \u001b[1;33m=\u001b[0m \u001b[1;36m5\u001b[0m\u001b[1;33m\u001b[0m\u001b[1;33m\u001b[0m\u001b[0m\n\u001b[0;32m      2\u001b[0m \u001b[0mb\u001b[0m \u001b[1;33m=\u001b[0m \u001b[1;36m0\u001b[0m\u001b[1;33m\u001b[0m\u001b[1;33m\u001b[0m\u001b[0m\n\u001b[1;32m----> 3\u001b[1;33m \u001b[0mc\u001b[0m \u001b[1;33m=\u001b[0m \u001b[0ma\u001b[0m \u001b[1;33m/\u001b[0m \u001b[0mb\u001b[0m  \u001b[1;31m# raises ZeroDivisionError: division by zero\u001b[0m\u001b[1;33m\u001b[0m\u001b[1;33m\u001b[0m\u001b[0m\n\u001b[0m",
      "\u001b[1;31mZeroDivisionError\u001b[0m: division by zero"
     ]
    }
   ],
   "source": [
    "a = 5\n",
    "b = 0\n",
    "c = a / b  # raises ZeroDivisionError: division by zero\n"
   ]
  },
  {
   "cell_type": "markdown",
   "id": "5511fb6a",
   "metadata": {},
   "source": [
    "OverflowError: This exception is raised when a calculation exceeds the maximum limit for a numeric type. For example:"
   ]
  },
  {
   "cell_type": "code",
   "execution_count": 4,
   "id": "30e3c91d",
   "metadata": {},
   "outputs": [
    {
     "ename": "OverflowError",
     "evalue": "math range error",
     "output_type": "error",
     "traceback": [
      "\u001b[1;31m---------------------------------------------------------------------------\u001b[0m",
      "\u001b[1;31mOverflowError\u001b[0m                             Traceback (most recent call last)",
      "\u001b[1;32m~\\AppData\\Local\\Temp\\ipykernel_16160\\1341937480.py\u001b[0m in \u001b[0;36m<module>\u001b[1;34m\u001b[0m\n\u001b[0;32m      1\u001b[0m \u001b[1;32mimport\u001b[0m \u001b[0mmath\u001b[0m\u001b[1;33m\u001b[0m\u001b[1;33m\u001b[0m\u001b[0m\n\u001b[0;32m      2\u001b[0m \u001b[1;33m\u001b[0m\u001b[0m\n\u001b[1;32m----> 3\u001b[1;33m \u001b[0mx\u001b[0m \u001b[1;33m=\u001b[0m \u001b[0mmath\u001b[0m\u001b[1;33m.\u001b[0m\u001b[0mexp\u001b[0m\u001b[1;33m(\u001b[0m\u001b[1;36m1000\u001b[0m\u001b[1;33m)\u001b[0m  \u001b[1;31m# raises OverflowError: math range error\u001b[0m\u001b[1;33m\u001b[0m\u001b[1;33m\u001b[0m\u001b[0m\n\u001b[0m",
      "\u001b[1;31mOverflowError\u001b[0m: math range error"
     ]
    }
   ],
   "source": [
    "import math\n",
    "\n",
    "x = math.exp(1000)  # raises OverflowError: math range error\n"
   ]
  },
  {
   "cell_type": "markdown",
   "id": "017d5a00",
   "metadata": {},
   "source": [
    "#### Q4. Why LookupError class is used? Explain with an example KeyError and IndexError."
   ]
  },
  {
   "cell_type": "markdown",
   "id": "f7ac168b",
   "metadata": {},
   "source": [
    "The LookupError class is a built-in exception class in Python that is the base class for many other exceptions, such as IndexError, KeyError, and NameError. It is used to handle errors that occur when looking up a value, such as an index or key, in a sequence or dictionary.\n",
    "\n",
    "Here are two examples of errors defined in the LookupError class:\n",
    "\n",
    "KeyError: This exception is raised when you try to access a key in a dictionary that does not exist. For example:"
   ]
  },
  {
   "cell_type": "code",
   "execution_count": 5,
   "id": "d07b4616",
   "metadata": {},
   "outputs": [
    {
     "ename": "KeyError",
     "evalue": "'c'",
     "output_type": "error",
     "traceback": [
      "\u001b[1;31m---------------------------------------------------------------------------\u001b[0m",
      "\u001b[1;31mKeyError\u001b[0m                                  Traceback (most recent call last)",
      "\u001b[1;32m~\\AppData\\Local\\Temp\\ipykernel_16160\\363593743.py\u001b[0m in \u001b[0;36m<module>\u001b[1;34m\u001b[0m\n\u001b[0;32m      1\u001b[0m \u001b[0md\u001b[0m \u001b[1;33m=\u001b[0m \u001b[1;33m{\u001b[0m\u001b[1;34m'a'\u001b[0m\u001b[1;33m:\u001b[0m \u001b[1;36m1\u001b[0m\u001b[1;33m,\u001b[0m \u001b[1;34m'b'\u001b[0m\u001b[1;33m:\u001b[0m \u001b[1;36m2\u001b[0m\u001b[1;33m}\u001b[0m\u001b[1;33m\u001b[0m\u001b[1;33m\u001b[0m\u001b[0m\n\u001b[1;32m----> 2\u001b[1;33m \u001b[0mvalue\u001b[0m \u001b[1;33m=\u001b[0m \u001b[0md\u001b[0m\u001b[1;33m[\u001b[0m\u001b[1;34m'c'\u001b[0m\u001b[1;33m]\u001b[0m  \u001b[1;31m# raises KeyError: 'c' is not in the dictionary\u001b[0m\u001b[1;33m\u001b[0m\u001b[1;33m\u001b[0m\u001b[0m\n\u001b[0m",
      "\u001b[1;31mKeyError\u001b[0m: 'c'"
     ]
    }
   ],
   "source": [
    "d = {'a': 1, 'b': 2}\n",
    "value = d['c']  # raises KeyError: 'c' is not in the dictionary\n"
   ]
  },
  {
   "cell_type": "markdown",
   "id": "d672350a",
   "metadata": {},
   "source": [
    "IndexError: This exception is raised when you try to access an index in a sequence that is out of range. For example:"
   ]
  },
  {
   "cell_type": "code",
   "execution_count": 6,
   "id": "bc9b6ac9",
   "metadata": {},
   "outputs": [
    {
     "ename": "IndexError",
     "evalue": "list index out of range",
     "output_type": "error",
     "traceback": [
      "\u001b[1;31m---------------------------------------------------------------------------\u001b[0m",
      "\u001b[1;31mIndexError\u001b[0m                                Traceback (most recent call last)",
      "\u001b[1;32m~\\AppData\\Local\\Temp\\ipykernel_16160\\637352251.py\u001b[0m in \u001b[0;36m<module>\u001b[1;34m\u001b[0m\n\u001b[0;32m      1\u001b[0m \u001b[0ml\u001b[0m \u001b[1;33m=\u001b[0m \u001b[1;33m[\u001b[0m\u001b[1;36m1\u001b[0m\u001b[1;33m,\u001b[0m \u001b[1;36m2\u001b[0m\u001b[1;33m,\u001b[0m \u001b[1;36m3\u001b[0m\u001b[1;33m]\u001b[0m\u001b[1;33m\u001b[0m\u001b[1;33m\u001b[0m\u001b[0m\n\u001b[1;32m----> 2\u001b[1;33m \u001b[0mvalue\u001b[0m \u001b[1;33m=\u001b[0m \u001b[0ml\u001b[0m\u001b[1;33m[\u001b[0m\u001b[1;36m3\u001b[0m\u001b[1;33m]\u001b[0m  \u001b[1;31m# raises IndexError: list index out of range\u001b[0m\u001b[1;33m\u001b[0m\u001b[1;33m\u001b[0m\u001b[0m\n\u001b[0m",
      "\u001b[1;31mIndexError\u001b[0m: list index out of range"
     ]
    }
   ],
   "source": [
    "l = [1, 2, 3]\n",
    "value = l[3]  # raises IndexError: list index out of range\n"
   ]
  },
  {
   "cell_type": "markdown",
   "id": "18b12776",
   "metadata": {},
   "source": [
    "#### Q5. Explain ImportError. What is ModuleNotFoundError?"
   ]
  },
  {
   "cell_type": "markdown",
   "id": "70cc8f9b",
   "metadata": {},
   "source": [
    "ImportError is a built-in exception class in Python that is raised when an import statement fails to import a module. It can occur for several reasons, such as a missing module, a misspelled module name, or a circular import.\n",
    "\n",
    "Here is an example of ImportError:"
   ]
  },
  {
   "cell_type": "code",
   "execution_count": 7,
   "id": "9181a577",
   "metadata": {},
   "outputs": [
    {
     "ename": "ModuleNotFoundError",
     "evalue": "No module named 'non_existent_module'",
     "output_type": "error",
     "traceback": [
      "\u001b[1;31m---------------------------------------------------------------------------\u001b[0m",
      "\u001b[1;31mModuleNotFoundError\u001b[0m                       Traceback (most recent call last)",
      "\u001b[1;32m~\\AppData\\Local\\Temp\\ipykernel_16160\\268275830.py\u001b[0m in \u001b[0;36m<module>\u001b[1;34m\u001b[0m\n\u001b[1;32m----> 1\u001b[1;33m \u001b[1;32mimport\u001b[0m \u001b[0mnon_existent_module\u001b[0m  \u001b[1;31m# raises ImportError: No module named 'non_existent_module'\u001b[0m\u001b[1;33m\u001b[0m\u001b[1;33m\u001b[0m\u001b[0m\n\u001b[0m",
      "\u001b[1;31mModuleNotFoundError\u001b[0m: No module named 'non_existent_module'"
     ]
    }
   ],
   "source": [
    "import non_existent_module  # raises ImportError: No module named 'non_existent_module'\n"
   ]
  },
  {
   "cell_type": "markdown",
   "id": "d3a11c1c",
   "metadata": {},
   "source": [
    "ModuleNotFoundError is a subclass of ImportError that was introduced in Python 3.6 to provide a more specific error message when a module cannot be found. It is raised when an import statement fails to import a module because the module is not found in the current search path."
   ]
  },
  {
   "cell_type": "markdown",
   "id": "4de3e3c7",
   "metadata": {},
   "source": [
    "#### Q6. List down some best practices for exception handling in python."
   ]
  },
  {
   "cell_type": "markdown",
   "id": "16ed02bf",
   "metadata": {},
   "source": [
    "1. Use specific exceptions: Always use the most specific exception class possible to handle a particular type of error. This makes your code more readable and helps with debugging. For example, use ValueError instead of Exception if you're expecting a certain type of input.\n",
    "\n",
    "2. Catch exceptions as close to the source of the error as possible: When catching exceptions, try to catch them as close to the source of the error as possible. This makes it easier to debug and prevents unintended consequences.\n",
    "\n",
    "3. Provide informative error messages: Always provide informative error messages when raising or catching exceptions. This helps with debugging and makes it easier for users to understand what went wrong.\n",
    "\n",
    "4. Don't catch more exceptions than you need: Avoid catching more exceptions than you need. This can lead to unintended consequences and make it harder to debug.\n",
    "\n",
    "5. Use finally to clean up resources: Use the finally block to release any resources that were acquired in the try block, such as file handles or network connections.\n",
    "\n",
    "6. Log exceptions: Always log exceptions when they occur. This helps with debugging and makes it easier to track down errors."
   ]
  },
  {
   "cell_type": "code",
   "execution_count": null,
   "id": "89042819",
   "metadata": {},
   "outputs": [],
   "source": []
  }
 ],
 "metadata": {
  "kernelspec": {
   "display_name": "Python 3 (ipykernel)",
   "language": "python",
   "name": "python3"
  },
  "language_info": {
   "codemirror_mode": {
    "name": "ipython",
    "version": 3
   },
   "file_extension": ".py",
   "mimetype": "text/x-python",
   "name": "python",
   "nbconvert_exporter": "python",
   "pygments_lexer": "ipython3",
   "version": "3.9.13"
  }
 },
 "nbformat": 4,
 "nbformat_minor": 5
}
