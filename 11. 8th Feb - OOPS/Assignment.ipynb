{
 "cells": [
  {
   "cell_type": "markdown",
   "metadata": {},
   "source": [
    "#### Q1. What is Abstraction in OOps? Explain with an example."
   ]
  },
  {
   "attachments": {},
   "cell_type": "markdown",
   "metadata": {},
   "source": [
    "Ans - Abstraction is a fundamental principle of object-oriented programming that allows developers to focus on essential information while hiding unnecessary details. In other words, it's a way to represent complex systems or entities in a simplified and understandable way.\n",
    "\n",
    "Abstraction helps to reduce the complexity of software development by breaking down the problem into manageable parts. It also enables developers to create reusable code that can be easily modified and maintained.\n",
    "\n",
    "An example of abstraction in object-oriented programming would be a car. When we think of a car, we don't need to know every single detail about how the engine works, how the brakes are applied, or how the transmission shifts gears. Instead, we only need to know the basic functions of a car, such as how to start it, how to accelerate and brake, how to steer it, and so on."
   ]
  },
  {
   "attachments": {},
   "cell_type": "markdown",
   "metadata": {},
   "source": [
    "#### Q2. Differentiate between Abstraction and Encapsulation. Explain with an example."
   ]
  },
  {
   "attachments": {},
   "cell_type": "markdown",
   "metadata": {},
   "source": [
    "Ans - Abstraction is the process of focusing on essential features of an object while ignoring the non-essential details. It is a way of simplifying complex systems so that we can better understand and use them. Abstraction is achieved in OOP through the use of abstract classes or interfaces. These classes or interfaces define the basic functions of an object, without specifying how those functions are implemented.\n",
    "\n",
    "On the other hand, Encapsulation is the process of hiding the internal details of an object from the outside world. It is a way of protecting the internal state of an object from being accessed or modified by unauthorized code. Encapsulation is achieved in OOP through the use of access modifiers, such as private, protected, and public. These access modifiers control the level of access to the internal state of an object.\n",
    "\n",
    "Let's take an example of a banking application to illustrate the difference between Abstraction and Encapsulation. In this example, we have a Bank class that represents a bank account. The Bank class has two private variables, balance and account number, which can only be accessed by the methods of the Bank class."
   ]
  },
  {
   "cell_type": "code",
   "execution_count": 3,
   "metadata": {},
   "outputs": [
    {
     "name": "stdout",
     "output_type": "stream",
     "text": [
      "500\n"
     ]
    }
   ],
   "source": [
    "from abc import ABC, abstractmethod\n",
    "\n",
    "class Bank(ABC):\n",
    "    def __init__(self, account_number):\n",
    "        self._balance = 0\n",
    "        self._account_number = account_number\n",
    "\n",
    "    @abstractmethod\n",
    "    def deposit(self, amount):\n",
    "        pass\n",
    "\n",
    "    @abstractmethod\n",
    "    def withdraw(self, amount):\n",
    "        pass\n",
    "\n",
    "    def get_balance(self):\n",
    "        return self._balance\n",
    "\n",
    "    def get_account_number(self):\n",
    "        return self._account_number\n",
    "\n",
    "class SavingsAccount(Bank):\n",
    "    def __init__(self, account_number):\n",
    "        super().__init__(account_number)\n",
    "\n",
    "    def deposit(self, amount):\n",
    "        self._balance += amount\n",
    "\n",
    "    def withdraw(self, amount):\n",
    "        if self._balance >= amount:\n",
    "            self._balance -= amount\n",
    "        else:\n",
    "            print(\"Insufficient balance\")\n",
    "\n",
    "savings_acc = SavingsAccount(\"1234\")\n",
    "savings_acc.deposit(1000)\n",
    "savings_acc.withdraw(500)\n",
    "print(savings_acc.get_balance()) # Output: 500\n"
   ]
  },
  {
   "cell_type": "markdown",
   "metadata": {},
   "source": [
    "#### Q3. What is abc module in python? Why is it used?"
   ]
  },
  {
   "attachments": {},
   "cell_type": "markdown",
   "metadata": {},
   "source": [
    "Ans - The abc module in Python stands for \"Abstract Base Classes\". It is a built-in module in Python that provides a way to define abstract classes and interfaces.\n",
    "\n",
    "The abc module is used to enforce a certain structure on classes and their methods. By defining abstract classes and methods, we can ensure that classes that inherit from them implement the required functionality. This can be useful for creating a framework or library where certain classes need to have a specific interface or functionality."
   ]
  },
  {
   "attachments": {},
   "cell_type": "markdown",
   "metadata": {},
   "source": [
    "#### Q4. How can we achieve data abstraction?"
   ]
  },
  {
   "attachments": {},
   "cell_type": "markdown",
   "metadata": {},
   "source": [
    "Ans - Encapsulation: Encapsulation is the process of hiding the internal details of an object from the outside world. It involves grouping data and methods that operate on that data into a single unit, which can then be accessed through a well-defined interface. Encapsulation helps to achieve data abstraction by hiding the implementation details of an object and providing a simple and easy-to-use interface for accessing and manipulating its data.\n",
    "\n",
    "Abstract classes and interfaces: Abstract classes and interfaces are used to define a set of methods that must be implemented by their concrete subclasses. Abstract classes and interfaces help to achieve data abstraction by defining a common interface that can be used to access and manipulate data without knowing the details of its implementation.\n",
    "\n",
    "Access modifiers: Access modifiers such as public, private, and protected can be used to control the visibility of data and methods within a class. By using access modifiers, we can restrict access to internal data and methods of an object, and provide a well-defined interface for accessing and manipulating its data.\n",
    "\n",
    "Getter and setter methods: Getter and setter methods can be used to provide controlled access to internal data of an object. Getter methods are used to retrieve the value of a private data member, while setter methods are used to set the value of a private data member. By using getter and setter methods, we can achieve data abstraction by controlling the access to internal data and providing a well-defined interface for accessing and manipulating it."
   ]
  },
  {
   "attachments": {},
   "cell_type": "markdown",
   "metadata": {},
   "source": [
    "#### Q5. Can we create an instance of an abstract class? Explain your answer."
   ]
  },
  {
   "attachments": {},
   "cell_type": "markdown",
   "metadata": {},
   "source": [
    "Ans - No, we cannot create an instance of an abstract class in Python or any other object-oriented programming language. An abstract class is a class that cannot be instantiated directly and must be subclassed to be used. It is meant to be used as a base class for other classes, and its primary purpose is to define a set of methods that its subclasses must implement.\n",
    "\n",
    "When we define an abstract class in Python using the abc module and the @abstractmethod decorator, any attempt to instantiate the class directly will result in a TypeError being raised. For example:"
   ]
  },
  {
   "cell_type": "code",
   "execution_count": 4,
   "metadata": {},
   "outputs": [
    {
     "ename": "TypeError",
     "evalue": "Can't instantiate abstract class MyAbstractClass with abstract method my_abstract_method",
     "output_type": "error",
     "traceback": [
      "\u001b[1;31m---------------------------------------------------------------------------\u001b[0m",
      "\u001b[1;31mTypeError\u001b[0m                                 Traceback (most recent call last)",
      "Cell \u001b[1;32mIn[4], line 9\u001b[0m\n\u001b[0;32m      6\u001b[0m         \u001b[39mpass\u001b[39;00m\n\u001b[0;32m      8\u001b[0m \u001b[39m# Attempt to create an instance of MyAbstractClass\u001b[39;00m\n\u001b[1;32m----> 9\u001b[0m a \u001b[39m=\u001b[39m MyAbstractClass() \u001b[39m# Raises TypeError: Can't instantiate abstract class MyAbstractClass with abstract methods my_abstract_method\u001b[39;00m\n",
      "\u001b[1;31mTypeError\u001b[0m: Can't instantiate abstract class MyAbstractClass with abstract method my_abstract_method"
     ]
    }
   ],
   "source": [
    "from abc import ABC, abstractmethod\n",
    "\n",
    "class MyAbstractClass(ABC):\n",
    "    @abstractmethod\n",
    "    def my_abstract_method(self):\n",
    "        pass\n",
    "\n",
    "# Attempt to create an instance of MyAbstractClass\n",
    "a = MyAbstractClass() # Raises TypeError: Can't instantiate abstract class MyAbstractClass with abstract methods my_abstract_method\n"
   ]
  },
  {
   "cell_type": "markdown",
   "metadata": {},
   "source": [
    "In this example, we define an abstract class MyAbstractClass with one abstract method my_abstract_method(). When we attempt to create an instance of MyAbstractClass, a TypeError is raised because we cannot instantiate an abstract class directly.\n",
    "\n",
    "Instead, we must subclass MyAbstractClass and implement the required my_abstract_method() in the subclass. This subclass can then be instantiated and used. For example:"
   ]
  },
  {
   "cell_type": "code",
   "execution_count": 5,
   "metadata": {},
   "outputs": [
    {
     "name": "stdout",
     "output_type": "stream",
     "text": [
      "Implementing my_abstract_method() in MySubclass\n"
     ]
    }
   ],
   "source": [
    "class MySubclass(MyAbstractClass):\n",
    "    def my_abstract_method(self):\n",
    "        print(\"Implementing my_abstract_method() in MySubclass\")\n",
    "\n",
    "# Create an instance of MySubclass\n",
    "b = MySubclass()\n",
    "b.my_abstract_method() # Output: \"Implementing my_abstract_method() in MySubclass\"\n"
   ]
  },
  {
   "cell_type": "code",
   "execution_count": null,
   "metadata": {},
   "outputs": [],
   "source": []
  }
 ],
 "metadata": {
  "kernelspec": {
   "display_name": "data_env",
   "language": "python",
   "name": "python3"
  },
  "language_info": {
   "codemirror_mode": {
    "name": "ipython",
    "version": 3
   },
   "file_extension": ".py",
   "mimetype": "text/x-python",
   "name": "python",
   "nbconvert_exporter": "python",
   "pygments_lexer": "ipython3",
   "version": "3.9.16"
  },
  "orig_nbformat": 4
 },
 "nbformat": 4,
 "nbformat_minor": 2
}
