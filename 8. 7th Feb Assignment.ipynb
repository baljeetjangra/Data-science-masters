{
 "cells": [
  {
   "cell_type": "markdown",
   "id": "88ee2d56",
   "metadata": {},
   "source": [
    " Q1. You are writing code for a company. The requirement of the company is that you create a python function that will check whether the password entered by the user is correct or not. The function should take the password as input and return the string “Valid Password” if the entered password follows the below-given password guidelines else it should return “Invalid Password”.\n",
    " \n",
    " Note: 1. The Password should contain at least two uppercase letters and at least two lowercase letters.\n",
    " \n",
    " 2. The Password should contain at least a number and three special characters.\n",
    "\n",
    "3. The length of the password should be 10 characters long."
   ]
  },
  {
   "cell_type": "code",
   "execution_count": 1,
   "id": "75d52239",
   "metadata": {},
   "outputs": [],
   "source": [
    "def validate_password(password):\n",
    "    import re\n",
    "\n",
    "    if len(password) != 10:\n",
    "        return \"Invalid Password\"\n",
    "\n",
    "    has_upper = re.search(r'[A-Z]', password) is not None\n",
    "    has_lower = re.search(r'[a-z]', password) is not None\n",
    "    has_number = re.search(r'\\d', password) is not None\n",
    "    has_special = len(re.findall(r'[!@#$%^&*(),.?\":{}|<>]', password)) >= 3\n",
    "\n",
    "    if has_upper and has_lower and has_number and has_special:\n",
    "        return \"Valid Password\"\n",
    "    else:\n",
    "        return \"Invalid Password\"\n"
   ]
  },
  {
   "cell_type": "code",
   "execution_count": 2,
   "id": "183a0e30",
   "metadata": {},
   "outputs": [
    {
     "data": {
      "text/plain": [
       "'Invalid Password'"
      ]
     },
     "execution_count": 2,
     "metadata": {},
     "output_type": "execute_result"
    }
   ],
   "source": [
    "validate_password(\"abc333\")"
   ]
  },
  {
   "cell_type": "code",
   "execution_count": 3,
   "id": "56c59ffd",
   "metadata": {},
   "outputs": [
    {
     "data": {
      "text/plain": [
       "'Valid Password'"
      ]
     },
     "execution_count": 3,
     "metadata": {},
     "output_type": "execute_result"
    }
   ],
   "source": [
    "validate_password(\"AAAbbb1@@@\")"
   ]
  },
  {
   "cell_type": "markdown",
   "id": "579763bf",
   "metadata": {},
   "source": [
    "Q2. Solve the below-given questions using at least one of the following:\n",
    "1. Lambda functioJ\n",
    "2. Filter functioJ\n",
    "3. Zap functioJ\n",
    "4. List Comprehension\n",
    "\n",
    "##### Check if the string starts with a particular letterY\n",
    "##### Check if the string is numericY\n",
    "##### Sort a list of tuples having fruit names and their quantity. [(\"mango\",99),(\"orange\",80), (\"grapes\", 1000)-\n",
    "##### Find the squares of numbers from 1 to 10Y\n",
    "##### Find the cube root of numbers from 1 to 10Y\n",
    "##### Check if a given number is evenY\n",
    "##### Filter odd numbers from the given list. [1,2,3,4,5,6,7,8,9,10-\n",
    "##### Sort a list of integers into positive and negative integers lists. [1,2,3,4,5,6,-1,-2,-3,-4,-5,0]"
   ]
  },
  {
   "cell_type": "code",
   "execution_count": 8,
   "id": "5146a6cc",
   "metadata": {},
   "outputs": [
    {
     "name": "stdout",
     "output_type": "stream",
     "text": [
      "True\n"
     ]
    }
   ],
   "source": [
    "# Check if the string start with letter Y\n",
    "string = \"You only live once\"\n",
    "\n",
    "# Using lambda function\n",
    "starts_with_y = lambda x: True if x.startswith(\"Y\") else False\n",
    "print(starts_with_y(string))"
   ]
  },
  {
   "cell_type": "code",
   "execution_count": 9,
   "id": "1037ca8f",
   "metadata": {},
   "outputs": [
    {
     "name": "stdout",
     "output_type": "stream",
     "text": [
      "True\n"
     ]
    }
   ],
   "source": [
    "#check if the string is number\n",
    "string = \"123456\"\n",
    "\n",
    "# Using lambda function\n",
    "is_numeric = lambda x: True if x.isnumeric() else False\n",
    "print(is_numeric(string))"
   ]
  },
  {
   "cell_type": "code",
   "execution_count": 10,
   "id": "2a188ffd",
   "metadata": {},
   "outputs": [
    {
     "name": "stdout",
     "output_type": "stream",
     "text": [
      "[('orange', 80), ('mango', 99), ('grapes', 1000)]\n"
     ]
    }
   ],
   "source": [
    "# sort fruits by the numbers\n",
    "fruits = [(\"mango\", 99), (\"orange\", 80), (\"grapes\", 1000)]\n",
    "\n",
    "# Using lambda function\n",
    "sorted_fruits = sorted(fruits, key=lambda x: x[1])\n",
    "print(sorted_fruits)"
   ]
  },
  {
   "cell_type": "code",
   "execution_count": 11,
   "id": "511f4c8d",
   "metadata": {},
   "outputs": [
    {
     "name": "stdout",
     "output_type": "stream",
     "text": [
      "[1, 4, 9, 16, 25, 36, 49, 64, 81, 100]\n"
     ]
    }
   ],
   "source": [
    "# print square of the numbers from 1 to 10\n",
    "\n",
    "# Using lambda function\n",
    "squared_numbers = map(lambda x: x**2, range(1, 11))\n",
    "print(list(squared_numbers))"
   ]
  },
  {
   "cell_type": "code",
   "execution_count": 15,
   "id": "4cf3047e",
   "metadata": {},
   "outputs": [
    {
     "name": "stdout",
     "output_type": "stream",
     "text": [
      "[1.0, 1.2599210498948732, 1.4422495703074083, 1.5874010519681994, 1.7099759466766968, 1.8171205928321397, 1.912931182772389, 2.0, 2.080083823051904, 2.154434690031884]\n"
     ]
    }
   ],
   "source": [
    "# print cube root of the numbers from 1 to 10\n",
    "\n",
    "import math\n",
    "\n",
    "# Using lambda function\n",
    "cubed_root_numbers = map(lambda x: math.pow(x, 1/3), range(1, 11))\n",
    "print(list(cubed_root_numbers))"
   ]
  },
  {
   "cell_type": "code",
   "execution_count": 4,
   "id": "c58fcd1d",
   "metadata": {},
   "outputs": [
    {
     "name": "stdout",
     "output_type": "stream",
     "text": [
      "True\n"
     ]
    }
   ],
   "source": [
    "# check if the number is even or not\n",
    "\n",
    "check_even = lambda x: x % 2 == 0\n",
    "print(check_even(4))"
   ]
  },
  {
   "cell_type": "code",
   "execution_count": 5,
   "id": "573f012f",
   "metadata": {},
   "outputs": [
    {
     "data": {
      "text/plain": [
       "[1, 3, 5, 7, 9]"
      ]
     },
     "execution_count": 5,
     "metadata": {},
     "output_type": "execute_result"
    }
   ],
   "source": [
    "# filter odd numbers\n",
    "filter_odd = lambda numbers: list(filter(lambda x: x % 2 != 0, numbers))\n",
    "filter_odd( [1,2,3,4,5,6,7,8,9,10])"
   ]
  },
  {
   "cell_type": "code",
   "execution_count": 7,
   "id": "959c9e5a",
   "metadata": {},
   "outputs": [
    {
     "name": "stdout",
     "output_type": "stream",
     "text": [
      "([1, 2, 3, 4, 5, 6], [-1, -2, -3, -4, -5, 0])\n"
     ]
    }
   ],
   "source": [
    "#sort the integers list\n",
    "\n",
    "integers = [1,2,3,4,5,6,-1,-2,-3,-4,-5,0]\n",
    "\n",
    "def sort_integers(integers):\n",
    "    positive_integers = list(filter(lambda x: x > 0, integers))\n",
    "    negative_integers = list(filter(lambda x: x <= 0, integers))\n",
    "    return (positive_integers, negative_integers)\n",
    "\n",
    "print(sort_integers(integers))\n"
   ]
  },
  {
   "cell_type": "code",
   "execution_count": null,
   "id": "b0826834",
   "metadata": {},
   "outputs": [],
   "source": []
  }
 ],
 "metadata": {
  "kernelspec": {
   "display_name": "Python 3 (ipykernel)",
   "language": "python",
   "name": "python3"
  },
  "language_info": {
   "codemirror_mode": {
    "name": "ipython",
    "version": 3
   },
   "file_extension": ".py",
   "mimetype": "text/x-python",
   "name": "python",
   "nbconvert_exporter": "python",
   "pygments_lexer": "ipython3",
   "version": "3.9.13"
  }
 },
 "nbformat": 4,
 "nbformat_minor": 5
}
