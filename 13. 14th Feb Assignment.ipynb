{
 "cells": [
  {
   "cell_type": "markdown",
   "id": "a940394e",
   "metadata": {},
   "source": [
    "#### Q1. What is multithreading in python? Why is it used? Name the module used to handle threads in python."
   ]
  },
  {
   "cell_type": "markdown",
   "id": "d3d60e1a",
   "metadata": {},
   "source": [
    "Ans - Multithreading in Python refers to the ability of the Python interpreter to run multiple threads (parallel execution units) within a single process. Each thread runs independently of the others, but they share the same memory space and can communicate with each other. Multithreading is used in Python to achieve concurrency, which allows multiple tasks to be executed at the same time.\n",
    "\n",
    "Multithreading is used in situations where you want to improve the performance of an application by doing multiple tasks at the same time, such as performing I/O operations while waiting for a CPU-intensive task to complete."
   ]
  },
  {
   "cell_type": "code",
   "execution_count": 1,
   "id": "94fd8e52",
   "metadata": {},
   "outputs": [
    {
     "name": "stdout",
     "output_type": "stream",
     "text": [
      "Thread started\n",
      "Thread finished\n"
     ]
    }
   ],
   "source": [
    "import threading\n",
    "\n",
    "# Define a function to be run in a thread\n",
    "def worker():\n",
    "    print(\"Thread started\")\n",
    "    # do some work...\n",
    "    print(\"Thread finished\")\n",
    "\n",
    "# Create a new thread\n",
    "t = threading.Thread(target=worker)\n",
    "\n",
    "# Start the thread\n",
    "t.start()\n",
    "\n",
    "# Wait for the thread to finish\n",
    "t.join()\n"
   ]
  },
  {
   "cell_type": "markdown",
   "id": "a5be36b7",
   "metadata": {},
   "source": [
    "#### Q2. Why threading module used? Write the use of the following functions:\n",
    "#### 1. activeCount()\n",
    "#### 2. currentThread()\n",
    "#### 3. enumerate()\n"
   ]
  },
  {
   "cell_type": "markdown",
   "id": "c2a69827",
   "metadata": {},
   "source": [
    "Ans - The threading module in Python is used to implement multithreading in Python. It allows multiple threads of execution to run concurrently within a single Python program. The threading module provides a simple and easy-to-use interface for creating and managing threads in Python.\n",
    "\n",
    "Here are the uses of the following functions in the threading module:\n",
    "\n",
    "1. activeCount(): This function returns the number of Thread objects that are currently active and running in the current process. It is useful for debugging and monitoring the status of running threads.\n",
    "\n",
    "2. currentThread(): This function returns a reference to the current Thread object that is calling it. This is useful for accessing the properties and methods of the current thread.\n",
    "\n",
    "3. enumerate(): This function returns a list of all active Thread objects in the current process. It is useful for monitoring the status of all threads in a program, and for debugging and troubleshooting any issues with the threads."
   ]
  },
  {
   "cell_type": "code",
   "execution_count": 2,
   "id": "7c613cd0",
   "metadata": {},
   "outputs": [
    {
     "name": "stdout",
     "output_type": "stream",
     "text": [
      "Thread startedActive threads: 7\n",
      "Current thread: <_MainThread(MainThread, started 7752)>\n",
      "All threads: [<_MainThread(MainThread, started 7752)>, <Thread(IOPub, started daemon 2224)>, <Heartbeat(Heartbeat, started daemon 9660)>, <ControlThread(Control, started daemon 7784)>, <HistorySavingThread(IPythonHistorySavingThread, started 5296)>, <ParentPollerWindows(Thread-4, started daemon 19164)>, <Thread(Thread-6, started 7032)>]\n",
      "\n",
      "Thread finished\n"
     ]
    }
   ],
   "source": [
    "import threading\n",
    "\n",
    "# Define a function to be run in a thread\n",
    "def worker():\n",
    "    print(\"Thread started\")\n",
    "    # do some work...\n",
    "    print(\"Thread finished\")\n",
    "\n",
    "# Create a new thread\n",
    "t = threading.Thread(target=worker)\n",
    "\n",
    "# Start the thread\n",
    "t.start()\n",
    "\n",
    "# Get the number of active threads\n",
    "print(\"Active threads:\", threading.activeCount())\n",
    "\n",
    "# Get the current thread\n",
    "print(\"Current thread:\", threading.currentThread())\n",
    "\n",
    "# Get a list of all threads\n",
    "threads = threading.enumerate()\n",
    "print(\"All threads:\", threads)\n"
   ]
  },
  {
   "cell_type": "markdown",
   "id": "a7b68e3c",
   "metadata": {},
   "source": [
    "#### Q3. Explain the following functions:\n",
    "#### 1. runQ)\n",
    "#### 2. start()\n",
    "#### 3. join()\n",
    "#### 4. isAlive()"
   ]
  },
  {
   "cell_type": "markdown",
   "id": "afb4abab",
   "metadata": {},
   "source": [
    "Ans - \n",
    "1. run(): This method is called when a thread starts running. It contains the code that will be executed in the thread. When creating a custom thread class, you should override this method with your own implementation.\n",
    "\n",
    "2. start(): This method starts a thread by calling its run method. The thread will execute its run method in a separate thread of control. If you call start on an already started thread, a RuntimeError will be raised.\n",
    "\n",
    "3. join(): This method waits for the thread to complete its execution before moving on to the next statement in the calling thread. It is used to synchronize the execution of multiple threads. When you call join on a thread, the calling thread will block until the target thread completes its execution.\n",
    "\n",
    "4. isAlive(): This method returns True if the thread is currently running and False otherwise. A thread is considered to be running if its run method is currently executing."
   ]
  },
  {
   "cell_type": "markdown",
   "id": "3140f30e",
   "metadata": {},
   "source": [
    "#### Q4. Write a python program to create two threads. Thread one must print the list of squares and thread two must print the list of cubes."
   ]
  },
  {
   "cell_type": "code",
   "execution_count": 4,
   "id": "d006b3df",
   "metadata": {},
   "outputs": [
    {
     "name": "stdout",
     "output_type": "stream",
     "text": [
      "1\n",
      "4\n",
      "9\n",
      "16\n",
      "25\n",
      "36\n",
      "49\n",
      "64\n",
      "81\n",
      "100\n",
      "1\n",
      "8\n",
      "27\n",
      "64\n",
      "125\n",
      "216\n",
      "343\n",
      "512\n",
      "729\n",
      "1000\n"
     ]
    }
   ],
   "source": [
    "import threading\n",
    "\n",
    "def print_squares():\n",
    "    for i in range(1, 11):\n",
    "        print(i ** 2)\n",
    "\n",
    "def print_cubes():\n",
    "    for i in range(1, 11):\n",
    "        print(i ** 3)\n",
    "\n",
    "# create the threads\n",
    "thread1 = threading.Thread(target=print_squares)\n",
    "thread2 = threading.Thread(target=print_cubes)\n",
    "\n",
    "# start the threads\n",
    "thread1.start()\n",
    "thread2.start()\n",
    "\n",
    "# wait for the threads to finish\n",
    "thread1.join()\n",
    "thread2.join()\n"
   ]
  },
  {
   "cell_type": "markdown",
   "id": "bf8cb7e3",
   "metadata": {},
   "source": [
    "#### Q5. State advantages and disadvantages of multithreading."
   ]
  },
  {
   "cell_type": "markdown",
   "id": "c20e5803",
   "metadata": {},
   "source": [
    "Ans - "
   ]
  },
  {
   "cell_type": "markdown",
   "id": "df40be3d",
   "metadata": {},
   "source": [
    "Advantages:\n",
    "\n",
    "1. Increased performance: Multithreading can help improve the performance of an application by allowing multiple threads to run concurrently, making use of multiple CPUs or CPU cores.\n",
    "\n",
    "2. Improved responsiveness: Multithreading can make an application more responsive by allowing it to continue processing user input or other tasks while waiting for other tasks to complete.\n",
    "\n",
    "3. Resource sharing: Multithreading can allow multiple threads to share resources such as memory and I/O devices, reducing the amount of system resources required for an application.\n",
    "\n",
    "4. Simplified programming: Multithreading can simplify programming by allowing developers to break up complex tasks into smaller, more manageable tasks that can be executed concurrently.\n",
    "\n",
    "Disadvantages:\n",
    "\n",
    "1. Complexity: Multithreaded programming can be complex and difficult to debug due to issues such as deadlocks, race conditions, and synchronization.\n",
    "\n",
    "2. Increased memory usage: Multithreading can lead to increased memory usage due to the overhead of creating and managing multiple threads.\n",
    "\n",
    "3. Increased CPU overhead: Multithreading can also lead to increased CPU overhead due to the overhead of thread scheduling and context switching.\n",
    "\n",
    "4. Thread safety: Multithreading requires careful attention to thread safety to ensure that shared resources are accessed and modified correctly.\n",
    "\n",
    "Overall, multithreading can be a powerful tool for improving the performance and responsiveness of an application, but it requires careful consideration of the trade-offs between increased complexity and the potential benefits."
   ]
  },
  {
   "cell_type": "markdown",
   "id": "c01c66a3",
   "metadata": {},
   "source": [
    "#### Q6. Explain deadlocks and race conditions."
   ]
  },
  {
   "cell_type": "markdown",
   "id": "1086feca",
   "metadata": {},
   "source": [
    "Ans - \n",
    "Deadlocks and race conditions are common issues that can occur in multithreaded programming.\n",
    "\n",
    "Deadlock:\n",
    "A deadlock occurs when two or more threads are blocked, waiting for each other to release a resource that they need to continue executing. This can occur when two threads each hold a resource that the other thread needs, and neither thread can proceed until it has the resource that the other thread is holding. Deadlocks can be difficult to diagnose and can cause an application to hang or crash.\n",
    "\n",
    "Race condition:\n",
    "A race condition occurs when two or more threads access shared resources or variables in an unpredictable order, leading to unexpected results. This can occur when two or more threads access the same variable simultaneously, and the order in which the threads access the variable is not guaranteed. Race conditions can lead to inconsistent or incorrect data, and can be difficult to debug."
   ]
  },
  {
   "cell_type": "code",
   "execution_count": null,
   "id": "3aa59c74",
   "metadata": {},
   "outputs": [],
   "source": []
  }
 ],
 "metadata": {
  "kernelspec": {
   "display_name": "Python 3 (ipykernel)",
   "language": "python",
   "name": "python3"
  },
  "language_info": {
   "codemirror_mode": {
    "name": "ipython",
    "version": 3
   },
   "file_extension": ".py",
   "mimetype": "text/x-python",
   "name": "python",
   "nbconvert_exporter": "python",
   "pygments_lexer": "ipython3",
   "version": "3.9.13"
  }
 },
 "nbformat": 4,
 "nbformat_minor": 5
}
