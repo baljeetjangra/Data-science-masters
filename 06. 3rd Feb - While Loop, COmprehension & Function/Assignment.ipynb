{
 "cells": [
  {
   "cell_type": "markdown",
   "id": "db125339",
   "metadata": {},
   "source": [
    "### Q1. Which keyword is used to create a function? Create a function to return a list of odd numbers in the range of 1 to 25."
   ]
  },
  {
   "cell_type": "code",
   "execution_count": 1,
   "id": "4795d4d5",
   "metadata": {},
   "outputs": [
    {
     "name": "stdout",
     "output_type": "stream",
     "text": [
      "[1, 3, 5, 7, 9, 11, 13, 15, 17, 19, 21, 23, 25]\n"
     ]
    }
   ],
   "source": [
    "def odd_numbers():\n",
    "    odd_list = []\n",
    "    for i in range(1, 26):\n",
    "        if i % 2 != 0:\n",
    "            odd_list.append(i)\n",
    "    return odd_list\n",
    "\n",
    "print(odd_numbers())\n"
   ]
  },
  {
   "cell_type": "markdown",
   "id": "70c1c319",
   "metadata": {},
   "source": [
    "### Q2. Why *args and **kwargs is used in some functions? Create a function each for *args and **kwargs to demonstrate their use."
   ]
  },
  {
   "cell_type": "markdown",
   "id": "1c1f0daf",
   "metadata": {},
   "source": [
    "### Ans- \n",
    "*args and **kwargs are used in functions as a way to pass a variable number of arguments to a function.\n",
    "\n",
    "*args is used to pass a non-keyworded, variable-length argument list to the function. It allows you to pass a variable number of arguments to the function"
   ]
  },
  {
   "cell_type": "code",
   "execution_count": 2,
   "id": "a59849df",
   "metadata": {},
   "outputs": [
    {
     "name": "stdout",
     "output_type": "stream",
     "text": [
      "1\n",
      "2\n",
      "3\n",
      "4\n"
     ]
    }
   ],
   "source": [
    "def display_args(*args):\n",
    "    for arg in args:\n",
    "        print(arg)\n",
    "\n",
    "display_args(1, 2, 3, 4)\n"
   ]
  },
  {
   "cell_type": "markdown",
   "id": "074fc92f",
   "metadata": {},
   "source": [
    "**kwargs is used to pass keyworded, variable-length arguments to the function"
   ]
  },
  {
   "cell_type": "code",
   "execution_count": 3,
   "id": "9ed7b223",
   "metadata": {},
   "outputs": [
    {
     "name": "stdout",
     "output_type": "stream",
     "text": [
      "name: John\n",
      "age: 25\n",
      "location: USA\n"
     ]
    }
   ],
   "source": [
    "def display_kwargs(**kwargs):\n",
    "    for key, value in kwargs.items():\n",
    "        print(f\"{key}: {value}\")\n",
    "\n",
    "display_kwargs(name=\"John\", age=25, location=\"USA\")\n"
   ]
  },
  {
   "cell_type": "markdown",
   "id": "ec730e37",
   "metadata": {},
   "source": [
    "### Q3. What is an iterator in python? Name the method used to initialise the iterator object and the method used for iteration. Use these methods to print the first five elements of the given list [2, 4, 6, 8, 10, 12, 14, 16, 18, 20]."
   ]
  },
  {
   "cell_type": "markdown",
   "id": "6ca21d70",
   "metadata": {},
   "source": [
    "### Ans\n",
    "An iterator in python is an object that can be iterated (looped) upon. It implements the iterator protocol, which consists of the methods __iter__() and __next__().\n",
    "\n",
    "To initialize an iterator object, we use the iter() method. To iterate through an iterator, we use the next() method.\n",
    "\n",
    "Here is an example of how to use these methods to print the first five elements of the list [2, 4, 6, 8, 10, 12, 14, 16, 18, 20]:"
   ]
  },
  {
   "cell_type": "code",
   "execution_count": 4,
   "id": "5db47cad",
   "metadata": {},
   "outputs": [
    {
     "name": "stdout",
     "output_type": "stream",
     "text": [
      "2\n",
      "4\n",
      "6\n",
      "8\n",
      "10\n"
     ]
    }
   ],
   "source": [
    "lst = [2, 4, 6, 8, 10, 12, 14, 16, 18, 20]\n",
    "\n",
    "# Initialize the iterator object\n",
    "iter_obj = iter(lst)\n",
    "\n",
    "# Use the next() method to iterate through the iterator and print the first five elements\n",
    "for i in range(5):\n",
    "    print(next(iter_obj))\n"
   ]
  },
  {
   "cell_type": "markdown",
   "id": "b6ce46e5",
   "metadata": {},
   "source": [
    "### Q4. What is a generator function in python? Why yield keyword is used? Give an example of a generator function."
   ]
  },
  {
   "cell_type": "markdown",
   "id": "e748beb4",
   "metadata": {},
   "source": [
    "### Ans-\n",
    "A generator function is a special type of function in Python that allows you to iterate over a set of values, without having to store all of the values in memory. Instead, the generator function yields each value one at a time as it is requested."
   ]
  },
  {
   "cell_type": "code",
   "execution_count": 5,
   "id": "9b8e64f9",
   "metadata": {},
   "outputs": [
    {
     "name": "stdout",
     "output_type": "stream",
     "text": [
      "0\n",
      "1\n",
      "2\n",
      "3\n",
      "4\n",
      "5\n",
      "6\n",
      "7\n",
      "8\n",
      "9\n"
     ]
    }
   ],
   "source": [
    "def generator_function():\n",
    "    for i in range(10):\n",
    "        yield i\n",
    "\n",
    "gen = generator_function()\n",
    "for i in gen:\n",
    "    print(i)\n"
   ]
  },
  {
   "cell_type": "markdown",
   "id": "149066bb",
   "metadata": {},
   "source": [
    "### Q5. Create a generator function for prime numbers less than 1000. Use the next() method to print the first 20 prime numbers."
   ]
  },
  {
   "cell_type": "markdown",
   "id": "6cbf659d",
   "metadata": {},
   "source": [
    "### Ans- \n"
   ]
  },
  {
   "cell_type": "code",
   "execution_count": 6,
   "id": "08140976",
   "metadata": {},
   "outputs": [],
   "source": [
    "def prime_numbers():\n",
    "    yield 2\n",
    "    primes = [2]\n",
    "    candidate = 3\n",
    "    while candidate < 1000:\n",
    "        is_prime = True\n",
    "        for prime in primes:\n",
    "            if candidate % prime == 0:\n",
    "                is_prime = False\n",
    "                break\n",
    "        if is_prime:\n",
    "            primes.append(candidate)\n",
    "            yield candidate\n",
    "        candidate += 2\n"
   ]
  },
  {
   "cell_type": "code",
   "execution_count": 7,
   "id": "a992971d",
   "metadata": {},
   "outputs": [
    {
     "name": "stdout",
     "output_type": "stream",
     "text": [
      "2\n",
      "3\n",
      "5\n",
      "7\n",
      "11\n",
      "13\n",
      "17\n",
      "19\n",
      "23\n",
      "29\n",
      "31\n",
      "37\n",
      "41\n",
      "43\n",
      "47\n",
      "53\n",
      "59\n",
      "61\n",
      "67\n",
      "71\n"
     ]
    }
   ],
   "source": [
    "gen = prime_numbers()\n",
    "for i in range(20):\n",
    "    print(next(gen))\n"
   ]
  },
  {
   "cell_type": "code",
   "execution_count": null,
   "id": "3088a3de",
   "metadata": {},
   "outputs": [],
   "source": []
  }
 ],
 "metadata": {
  "kernelspec": {
   "display_name": "Python 3 (ipykernel)",
   "language": "python",
   "name": "python3"
  },
  "language_info": {
   "codemirror_mode": {
    "name": "ipython",
    "version": 3
   },
   "file_extension": ".py",
   "mimetype": "text/x-python",
   "name": "python",
   "nbconvert_exporter": "python",
   "pygments_lexer": "ipython3",
   "version": "3.9.13"
  }
 },
 "nbformat": 4,
 "nbformat_minor": 5
}
