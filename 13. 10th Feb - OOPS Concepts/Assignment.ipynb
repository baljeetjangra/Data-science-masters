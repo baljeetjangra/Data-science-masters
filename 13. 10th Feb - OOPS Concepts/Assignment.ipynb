{
 "cells": [
  {
   "cell_type": "markdown",
   "id": "3045a3a6",
   "metadata": {},
   "source": [
    "#### Q1. Which function is used to open a file? What are the different modes of opening a file? Explain each mode of file opening."
   ]
  },
  {
   "cell_type": "markdown",
   "id": "4f0897ce",
   "metadata": {},
   "source": [
    "Ans- The function used to open a file in Python is the built-in open() function. The open() function takes two arguments: the name of the file and the mode in which the file is opened. "
   ]
  },
  {
   "cell_type": "markdown",
   "id": "911b93c5",
   "metadata": {},
   "source": [
    "'r' (Read Only): This is the default mode in which a file is opened. If the file does not exist, an error is raised.\n",
    "\n",
    "'w' (Write Only): This mode opens the file for writing. If the file already exists, its contents are truncated (i.e., deleted), and if it does not exist, a new file is created.\n",
    "\n",
    "'a' (Append Only): This mode opens the file for writing, but the file is not truncated. Instead, any data written to the file is appended to the end of the file. If the file does not exist, a new file is created.\n",
    "\n",
    "'b' (Binary): This mode is used when working with binary files, such as images or executables. When this mode is used, the file is opened in binary mode, and the data is read and written as a sequence of bytes.\n",
    "\n",
    "The different modes can be combined to create new modes, for example 'rb' opens a file for reading in binary mode,"
   ]
  },
  {
   "cell_type": "markdown",
   "id": "5900f8d5",
   "metadata": {},
   "source": [
    "#### Q2. Why close() function is used? Why is it important to close a file?"
   ]
  },
  {
   "cell_type": "markdown",
   "id": "f90ea5cf",
   "metadata": {},
   "source": [
    "Ans- The close() function is used to close an open file. It is important to close a file after you have finished working with it for several reasons:\n",
    "\n",
    "Avoiding data loss: When a file is open, any changes you make to the file are stored in memory and not written to the actual file on disk. If you do not close the file, these changes may be lost if your program crashes or if the system shuts down before the changes can be written to disk.\n",
    "\n",
    "Improving performance: When many files are open at once, the operating system must keep track of them all and manage their resources accordingly. Closing unnecessary files can improve the performance of your program and the overall performance of the system."
   ]
  },
  {
   "cell_type": "markdown",
   "id": "3204f7f7",
   "metadata": {},
   "source": [
    "#### Q3. Write a python program to create a text file. Write ‘I want to become a Data Scientist’ in that file. Then close the file. Open this file and read the content of the file."
   ]
  },
  {
   "cell_type": "code",
   "execution_count": 1,
   "id": "f596346b",
   "metadata": {},
   "outputs": [
    {
     "name": "stdout",
     "output_type": "stream",
     "text": [
      "I want to become a Data Scientist\n"
     ]
    }
   ],
   "source": [
    "# Creating a text file and writing to it\n",
    "with open(\"textfile.txt\", \"w\") as file:\n",
    "    file.write(\"I want to become a Data Scientist\")\n",
    "\n",
    "# Reading the contents of the file\n",
    "with open(\"textfile.txt\", \"r\") as file:\n",
    "    contents = file.read()\n",
    "    print(contents)\n"
   ]
  },
  {
   "cell_type": "markdown",
   "id": "a6a0e425",
   "metadata": {},
   "source": [
    "#### Q4. Explain the following with python code: read(), readline() and readlines()."
   ]
  },
  {
   "cell_type": "markdown",
   "id": "e6df97d3",
   "metadata": {},
   "source": [
    "Ans- read(): This method reads the entire contents of the file and returns it as a single string. The following code demonstrates how to use read() to read the contents of a file:"
   ]
  },
  {
   "cell_type": "code",
   "execution_count": 2,
   "id": "7b9d8cfa",
   "metadata": {},
   "outputs": [
    {
     "name": "stdout",
     "output_type": "stream",
     "text": [
      "I want to become a Data Scientist\n"
     ]
    }
   ],
   "source": [
    "with open(\"textfile.txt\", \"r\") as file:\n",
    "    contents = file.read()\n",
    "    print(contents)\n"
   ]
  },
  {
   "cell_type": "markdown",
   "id": "ba8cb032",
   "metadata": {},
   "source": [
    "readline(): This method reads a single line from the file and returns it as a string. The following code demonstrates how to use readline() to read the contents of a file one line at a time:"
   ]
  },
  {
   "cell_type": "code",
   "execution_count": 3,
   "id": "ef21738a",
   "metadata": {},
   "outputs": [
    {
     "name": "stdout",
     "output_type": "stream",
     "text": [
      "I want to become a Data Scientist\n"
     ]
    }
   ],
   "source": [
    "with open(\"textfile.txt\", \"r\") as file:\n",
    "    line = file.readline()\n",
    "    while line:\n",
    "        print(line)\n",
    "        line = file.readline()\n"
   ]
  },
  {
   "cell_type": "markdown",
   "id": "d1f25b09",
   "metadata": {},
   "source": [
    "readlines(): This method reads the entire contents of the file and returns a list of strings, where each string represents a single line of the file. The following code demonstrates how to use readlines()"
   ]
  },
  {
   "cell_type": "code",
   "execution_count": 4,
   "id": "1ccb51fa",
   "metadata": {},
   "outputs": [
    {
     "name": "stdout",
     "output_type": "stream",
     "text": [
      "I want to become a Data Scientist\n"
     ]
    }
   ],
   "source": [
    "with open(\"textfile.txt\", \"r\") as file:\n",
    "    lines = file.readlines()\n",
    "    for line in lines:\n",
    "        print(line)\n"
   ]
  },
  {
   "cell_type": "markdown",
   "id": "18cbf216",
   "metadata": {},
   "source": [
    "#### Q5. Explain why with statement is used with open(). What is the advantage of using with statement and open() together?"
   ]
  },
  {
   "cell_type": "markdown",
   "id": "18000e2e",
   "metadata": {},
   "source": [
    "Ans- The with statement is used with open() in Python to ensure that the file is properly closed after it has been used, even if an exception is raised while the file is open. When you use with open(...) as ..., Python creates a context in which the file is automatically closed when you are done with it.\n",
    "\n",
    "The advantage of using with and open() together is that it eliminates the need for explicitly closing the file, which can be error-prone if you forget to close the file, or if an exception is raised while the file is open. With with and open(), you can be confident that the file will be properly closed, even if an exception is raised, because Python automatically closes the file when the with statement is exited."
   ]
  },
  {
   "cell_type": "markdown",
   "id": "0b5fd2fe",
   "metadata": {},
   "source": [
    "#### Q6. Explain the write() and writelines() functions. Give a suitable example."
   ]
  },
  {
   "cell_type": "markdown",
   "id": "4f6fc6ea",
   "metadata": {},
   "source": [
    "Ans-  write(): This function writes a string to a file. The string is specified as an argument to the write() function. For example:\n"
   ]
  },
  {
   "cell_type": "code",
   "execution_count": 8,
   "id": "442451c7",
   "metadata": {},
   "outputs": [],
   "source": [
    "\n",
    "with open(\"textfile.txt\", \"w\") as file:\n",
    "    file.write(\"I want to become a Data Scientist\")\n"
   ]
  },
  {
   "cell_type": "markdown",
   "id": "d5017168",
   "metadata": {},
   "source": [
    "writelines(): This function writes a list of strings to a file. The list is specified as an argument to the writelines() function. For example:\n"
   ]
  },
  {
   "cell_type": "code",
   "execution_count": 7,
   "id": "ffabb727",
   "metadata": {},
   "outputs": [],
   "source": [
    "\n",
    "with open(\"textfile.txt\", \"w\") as file:\n",
    "    lines = [\"I want to become a Data Scientist\", \"Data Science is the future\"]\n",
    "    file.writelines(lines)\n"
   ]
  },
  {
   "cell_type": "code",
   "execution_count": null,
   "id": "8f5da045",
   "metadata": {},
   "outputs": [],
   "source": []
  }
 ],
 "metadata": {
  "kernelspec": {
   "display_name": "Python 3 (ipykernel)",
   "language": "python",
   "name": "python3"
  },
  "language_info": {
   "codemirror_mode": {
    "name": "ipython",
    "version": 3
   },
   "file_extension": ".py",
   "mimetype": "text/x-python",
   "name": "python",
   "nbconvert_exporter": "python",
   "pygments_lexer": "ipython3",
   "version": "3.9.13"
  }
 },
 "nbformat": 4,
 "nbformat_minor": 5
}
